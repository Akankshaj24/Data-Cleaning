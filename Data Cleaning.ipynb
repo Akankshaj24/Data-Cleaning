{
 "cells": [
  {
   "cell_type": "markdown",
   "id": "0bce4923",
   "metadata": {},
   "source": [
    "# DATA PREPROCESSING"
   ]
  },
  {
   "cell_type": "code",
   "execution_count": 1,
   "id": "00e694d3",
   "metadata": {},
   "outputs": [],
   "source": [
    "import pandas as pd\n",
    "import numpy as np\n",
    "import matplotlib.pyplot as plt\n",
    "\n",
    "import warnings\n",
    "warnings.filterwarnings('ignore')"
   ]
  },
  {
   "cell_type": "code",
   "execution_count": 2,
   "id": "004d7b3a",
   "metadata": {},
   "outputs": [],
   "source": [
    "df=pd.read_csv('Car details v3.csv')"
   ]
  },
  {
   "cell_type": "code",
   "execution_count": 3,
   "id": "721f8e32",
   "metadata": {},
   "outputs": [
    {
     "data": {
      "text/html": [
       "<div>\n",
       "<style scoped>\n",
       "    .dataframe tbody tr th:only-of-type {\n",
       "        vertical-align: middle;\n",
       "    }\n",
       "\n",
       "    .dataframe tbody tr th {\n",
       "        vertical-align: top;\n",
       "    }\n",
       "\n",
       "    .dataframe thead th {\n",
       "        text-align: right;\n",
       "    }\n",
       "</style>\n",
       "<table border=\"1\" class=\"dataframe\">\n",
       "  <thead>\n",
       "    <tr style=\"text-align: right;\">\n",
       "      <th></th>\n",
       "      <th>name</th>\n",
       "      <th>year</th>\n",
       "      <th>selling_price</th>\n",
       "      <th>km_driven</th>\n",
       "      <th>fuel</th>\n",
       "      <th>seller_type</th>\n",
       "      <th>transmission</th>\n",
       "      <th>owner</th>\n",
       "      <th>mileage</th>\n",
       "      <th>engine</th>\n",
       "      <th>max_power</th>\n",
       "      <th>seats</th>\n",
       "    </tr>\n",
       "  </thead>\n",
       "  <tbody>\n",
       "    <tr>\n",
       "      <th>0</th>\n",
       "      <td>Maruti Swift Dzire VDI</td>\n",
       "      <td>2014</td>\n",
       "      <td>450000</td>\n",
       "      <td>145500</td>\n",
       "      <td>Diesel</td>\n",
       "      <td>Individual</td>\n",
       "      <td>Manual</td>\n",
       "      <td>First Owner</td>\n",
       "      <td>23.4 kmpl</td>\n",
       "      <td>1248 CC</td>\n",
       "      <td>74 bhp</td>\n",
       "      <td>5.0</td>\n",
       "    </tr>\n",
       "    <tr>\n",
       "      <th>1</th>\n",
       "      <td>Skoda Rapid 1.5 TDI Ambition</td>\n",
       "      <td>2014</td>\n",
       "      <td>370000</td>\n",
       "      <td>120000</td>\n",
       "      <td>Diesel</td>\n",
       "      <td>Individual</td>\n",
       "      <td>Manual</td>\n",
       "      <td>Second Owner</td>\n",
       "      <td>21.14 kmpl</td>\n",
       "      <td>1498 CC</td>\n",
       "      <td>103.52 bhp</td>\n",
       "      <td>5.0</td>\n",
       "    </tr>\n",
       "    <tr>\n",
       "      <th>2</th>\n",
       "      <td>Honda City 2017-2020 EXi</td>\n",
       "      <td>2006</td>\n",
       "      <td>158000</td>\n",
       "      <td>140000</td>\n",
       "      <td>Petrol</td>\n",
       "      <td>Individual</td>\n",
       "      <td>Manual</td>\n",
       "      <td>Third Owner</td>\n",
       "      <td>17.7 kmpl</td>\n",
       "      <td>1497 CC</td>\n",
       "      <td>78 bhp</td>\n",
       "      <td>5.0</td>\n",
       "    </tr>\n",
       "    <tr>\n",
       "      <th>3</th>\n",
       "      <td>Hyundai i20 Sportz Diesel</td>\n",
       "      <td>2010</td>\n",
       "      <td>225000</td>\n",
       "      <td>127000</td>\n",
       "      <td>Diesel</td>\n",
       "      <td>Individual</td>\n",
       "      <td>Manual</td>\n",
       "      <td>First Owner</td>\n",
       "      <td>23.0 kmpl</td>\n",
       "      <td>1396 CC</td>\n",
       "      <td>90 bhp</td>\n",
       "      <td>5.0</td>\n",
       "    </tr>\n",
       "    <tr>\n",
       "      <th>4</th>\n",
       "      <td>Maruti Swift VXI BSIII</td>\n",
       "      <td>2007</td>\n",
       "      <td>130000</td>\n",
       "      <td>120000</td>\n",
       "      <td>Petrol</td>\n",
       "      <td>Individual</td>\n",
       "      <td>Manual</td>\n",
       "      <td>First Owner</td>\n",
       "      <td>16.1 kmpl</td>\n",
       "      <td>1298 CC</td>\n",
       "      <td>88.2 bhp</td>\n",
       "      <td>5.0</td>\n",
       "    </tr>\n",
       "  </tbody>\n",
       "</table>\n",
       "</div>"
      ],
      "text/plain": [
       "                           name  year  selling_price  km_driven    fuel  \\\n",
       "0        Maruti Swift Dzire VDI  2014         450000     145500  Diesel   \n",
       "1  Skoda Rapid 1.5 TDI Ambition  2014         370000     120000  Diesel   \n",
       "2      Honda City 2017-2020 EXi  2006         158000     140000  Petrol   \n",
       "3     Hyundai i20 Sportz Diesel  2010         225000     127000  Diesel   \n",
       "4        Maruti Swift VXI BSIII  2007         130000     120000  Petrol   \n",
       "\n",
       "  seller_type transmission         owner     mileage   engine   max_power  \\\n",
       "0  Individual       Manual   First Owner   23.4 kmpl  1248 CC      74 bhp   \n",
       "1  Individual       Manual  Second Owner  21.14 kmpl  1498 CC  103.52 bhp   \n",
       "2  Individual       Manual   Third Owner   17.7 kmpl  1497 CC      78 bhp   \n",
       "3  Individual       Manual   First Owner   23.0 kmpl  1396 CC      90 bhp   \n",
       "4  Individual       Manual   First Owner   16.1 kmpl  1298 CC    88.2 bhp   \n",
       "\n",
       "   seats  \n",
       "0    5.0  \n",
       "1    5.0  \n",
       "2    5.0  \n",
       "3    5.0  \n",
       "4    5.0  "
      ]
     },
     "execution_count": 3,
     "metadata": {},
     "output_type": "execute_result"
    }
   ],
   "source": [
    "df.head()"
   ]
  },
  {
   "cell_type": "code",
   "execution_count": 4,
   "id": "24832f9c",
   "metadata": {},
   "outputs": [
    {
     "name": "stdout",
     "output_type": "stream",
     "text": [
      "<class 'pandas.core.frame.DataFrame'>\n",
      "RangeIndex: 8128 entries, 0 to 8127\n",
      "Data columns (total 12 columns):\n",
      " #   Column         Non-Null Count  Dtype  \n",
      "---  ------         --------------  -----  \n",
      " 0   name           8128 non-null   object \n",
      " 1   year           8128 non-null   int64  \n",
      " 2   selling_price  8128 non-null   int64  \n",
      " 3   km_driven      8128 non-null   int64  \n",
      " 4   fuel           8128 non-null   object \n",
      " 5   seller_type    8128 non-null   object \n",
      " 6   transmission   8128 non-null   object \n",
      " 7   owner          8128 non-null   object \n",
      " 8   mileage        7907 non-null   object \n",
      " 9   engine         7907 non-null   object \n",
      " 10  max_power      7913 non-null   object \n",
      " 11  seats          7907 non-null   float64\n",
      "dtypes: float64(1), int64(3), object(8)\n",
      "memory usage: 762.1+ KB\n"
     ]
    }
   ],
   "source": [
    "df.info()"
   ]
  },
  {
   "cell_type": "code",
   "execution_count": 5,
   "id": "3e78e160",
   "metadata": {},
   "outputs": [
    {
     "data": {
      "text/html": [
       "<div>\n",
       "<style scoped>\n",
       "    .dataframe tbody tr th:only-of-type {\n",
       "        vertical-align: middle;\n",
       "    }\n",
       "\n",
       "    .dataframe tbody tr th {\n",
       "        vertical-align: top;\n",
       "    }\n",
       "\n",
       "    .dataframe thead th {\n",
       "        text-align: right;\n",
       "    }\n",
       "</style>\n",
       "<table border=\"1\" class=\"dataframe\">\n",
       "  <thead>\n",
       "    <tr style=\"text-align: right;\">\n",
       "      <th></th>\n",
       "      <th>year</th>\n",
       "      <th>selling_price</th>\n",
       "      <th>km_driven</th>\n",
       "      <th>seats</th>\n",
       "    </tr>\n",
       "  </thead>\n",
       "  <tbody>\n",
       "    <tr>\n",
       "      <th>count</th>\n",
       "      <td>8128.000000</td>\n",
       "      <td>8.128000e+03</td>\n",
       "      <td>8.128000e+03</td>\n",
       "      <td>7907.000000</td>\n",
       "    </tr>\n",
       "    <tr>\n",
       "      <th>mean</th>\n",
       "      <td>2013.804011</td>\n",
       "      <td>6.382718e+05</td>\n",
       "      <td>6.981951e+04</td>\n",
       "      <td>5.416719</td>\n",
       "    </tr>\n",
       "    <tr>\n",
       "      <th>std</th>\n",
       "      <td>4.044249</td>\n",
       "      <td>8.062534e+05</td>\n",
       "      <td>5.655055e+04</td>\n",
       "      <td>0.959588</td>\n",
       "    </tr>\n",
       "    <tr>\n",
       "      <th>min</th>\n",
       "      <td>1983.000000</td>\n",
       "      <td>2.999900e+04</td>\n",
       "      <td>1.000000e+00</td>\n",
       "      <td>2.000000</td>\n",
       "    </tr>\n",
       "    <tr>\n",
       "      <th>25%</th>\n",
       "      <td>2011.000000</td>\n",
       "      <td>2.549990e+05</td>\n",
       "      <td>3.500000e+04</td>\n",
       "      <td>5.000000</td>\n",
       "    </tr>\n",
       "    <tr>\n",
       "      <th>50%</th>\n",
       "      <td>2015.000000</td>\n",
       "      <td>4.500000e+05</td>\n",
       "      <td>6.000000e+04</td>\n",
       "      <td>5.000000</td>\n",
       "    </tr>\n",
       "    <tr>\n",
       "      <th>75%</th>\n",
       "      <td>2017.000000</td>\n",
       "      <td>6.750000e+05</td>\n",
       "      <td>9.800000e+04</td>\n",
       "      <td>5.000000</td>\n",
       "    </tr>\n",
       "    <tr>\n",
       "      <th>max</th>\n",
       "      <td>2020.000000</td>\n",
       "      <td>1.000000e+07</td>\n",
       "      <td>2.360457e+06</td>\n",
       "      <td>14.000000</td>\n",
       "    </tr>\n",
       "  </tbody>\n",
       "</table>\n",
       "</div>"
      ],
      "text/plain": [
       "              year  selling_price     km_driven        seats\n",
       "count  8128.000000   8.128000e+03  8.128000e+03  7907.000000\n",
       "mean   2013.804011   6.382718e+05  6.981951e+04     5.416719\n",
       "std       4.044249   8.062534e+05  5.655055e+04     0.959588\n",
       "min    1983.000000   2.999900e+04  1.000000e+00     2.000000\n",
       "25%    2011.000000   2.549990e+05  3.500000e+04     5.000000\n",
       "50%    2015.000000   4.500000e+05  6.000000e+04     5.000000\n",
       "75%    2017.000000   6.750000e+05  9.800000e+04     5.000000\n",
       "max    2020.000000   1.000000e+07  2.360457e+06    14.000000"
      ]
     },
     "execution_count": 5,
     "metadata": {},
     "output_type": "execute_result"
    }
   ],
   "source": [
    "df.describe()"
   ]
  },
  {
   "cell_type": "code",
   "execution_count": 6,
   "id": "cd770c42",
   "metadata": {},
   "outputs": [
    {
     "data": {
      "text/html": [
       "<div>\n",
       "<style scoped>\n",
       "    .dataframe tbody tr th:only-of-type {\n",
       "        vertical-align: middle;\n",
       "    }\n",
       "\n",
       "    .dataframe tbody tr th {\n",
       "        vertical-align: top;\n",
       "    }\n",
       "\n",
       "    .dataframe thead th {\n",
       "        text-align: right;\n",
       "    }\n",
       "</style>\n",
       "<table border=\"1\" class=\"dataframe\">\n",
       "  <thead>\n",
       "    <tr style=\"text-align: right;\">\n",
       "      <th></th>\n",
       "      <th>name</th>\n",
       "      <th>year</th>\n",
       "      <th>selling_price</th>\n",
       "      <th>km_driven</th>\n",
       "      <th>fuel</th>\n",
       "      <th>seller_type</th>\n",
       "      <th>transmission</th>\n",
       "      <th>owner</th>\n",
       "      <th>mileage</th>\n",
       "      <th>engine</th>\n",
       "      <th>max_power</th>\n",
       "      <th>seats</th>\n",
       "    </tr>\n",
       "  </thead>\n",
       "  <tbody>\n",
       "    <tr>\n",
       "      <th>count</th>\n",
       "      <td>8128</td>\n",
       "      <td>8128.000000</td>\n",
       "      <td>8.128000e+03</td>\n",
       "      <td>8.128000e+03</td>\n",
       "      <td>8128</td>\n",
       "      <td>8128</td>\n",
       "      <td>8128</td>\n",
       "      <td>8128</td>\n",
       "      <td>7907</td>\n",
       "      <td>7907</td>\n",
       "      <td>7913</td>\n",
       "      <td>7907.000000</td>\n",
       "    </tr>\n",
       "    <tr>\n",
       "      <th>unique</th>\n",
       "      <td>2058</td>\n",
       "      <td>NaN</td>\n",
       "      <td>NaN</td>\n",
       "      <td>NaN</td>\n",
       "      <td>4</td>\n",
       "      <td>3</td>\n",
       "      <td>2</td>\n",
       "      <td>5</td>\n",
       "      <td>393</td>\n",
       "      <td>121</td>\n",
       "      <td>322</td>\n",
       "      <td>NaN</td>\n",
       "    </tr>\n",
       "    <tr>\n",
       "      <th>top</th>\n",
       "      <td>Maruti Swift Dzire VDI</td>\n",
       "      <td>NaN</td>\n",
       "      <td>NaN</td>\n",
       "      <td>NaN</td>\n",
       "      <td>Diesel</td>\n",
       "      <td>Individual</td>\n",
       "      <td>Manual</td>\n",
       "      <td>First Owner</td>\n",
       "      <td>18.9 kmpl</td>\n",
       "      <td>1248 CC</td>\n",
       "      <td>74 bhp</td>\n",
       "      <td>NaN</td>\n",
       "    </tr>\n",
       "    <tr>\n",
       "      <th>freq</th>\n",
       "      <td>129</td>\n",
       "      <td>NaN</td>\n",
       "      <td>NaN</td>\n",
       "      <td>NaN</td>\n",
       "      <td>4402</td>\n",
       "      <td>6766</td>\n",
       "      <td>7078</td>\n",
       "      <td>5289</td>\n",
       "      <td>225</td>\n",
       "      <td>1017</td>\n",
       "      <td>377</td>\n",
       "      <td>NaN</td>\n",
       "    </tr>\n",
       "    <tr>\n",
       "      <th>mean</th>\n",
       "      <td>NaN</td>\n",
       "      <td>2013.804011</td>\n",
       "      <td>6.382718e+05</td>\n",
       "      <td>6.981951e+04</td>\n",
       "      <td>NaN</td>\n",
       "      <td>NaN</td>\n",
       "      <td>NaN</td>\n",
       "      <td>NaN</td>\n",
       "      <td>NaN</td>\n",
       "      <td>NaN</td>\n",
       "      <td>NaN</td>\n",
       "      <td>5.416719</td>\n",
       "    </tr>\n",
       "    <tr>\n",
       "      <th>std</th>\n",
       "      <td>NaN</td>\n",
       "      <td>4.044249</td>\n",
       "      <td>8.062534e+05</td>\n",
       "      <td>5.655055e+04</td>\n",
       "      <td>NaN</td>\n",
       "      <td>NaN</td>\n",
       "      <td>NaN</td>\n",
       "      <td>NaN</td>\n",
       "      <td>NaN</td>\n",
       "      <td>NaN</td>\n",
       "      <td>NaN</td>\n",
       "      <td>0.959588</td>\n",
       "    </tr>\n",
       "    <tr>\n",
       "      <th>min</th>\n",
       "      <td>NaN</td>\n",
       "      <td>1983.000000</td>\n",
       "      <td>2.999900e+04</td>\n",
       "      <td>1.000000e+00</td>\n",
       "      <td>NaN</td>\n",
       "      <td>NaN</td>\n",
       "      <td>NaN</td>\n",
       "      <td>NaN</td>\n",
       "      <td>NaN</td>\n",
       "      <td>NaN</td>\n",
       "      <td>NaN</td>\n",
       "      <td>2.000000</td>\n",
       "    </tr>\n",
       "    <tr>\n",
       "      <th>25%</th>\n",
       "      <td>NaN</td>\n",
       "      <td>2011.000000</td>\n",
       "      <td>2.549990e+05</td>\n",
       "      <td>3.500000e+04</td>\n",
       "      <td>NaN</td>\n",
       "      <td>NaN</td>\n",
       "      <td>NaN</td>\n",
       "      <td>NaN</td>\n",
       "      <td>NaN</td>\n",
       "      <td>NaN</td>\n",
       "      <td>NaN</td>\n",
       "      <td>5.000000</td>\n",
       "    </tr>\n",
       "    <tr>\n",
       "      <th>50%</th>\n",
       "      <td>NaN</td>\n",
       "      <td>2015.000000</td>\n",
       "      <td>4.500000e+05</td>\n",
       "      <td>6.000000e+04</td>\n",
       "      <td>NaN</td>\n",
       "      <td>NaN</td>\n",
       "      <td>NaN</td>\n",
       "      <td>NaN</td>\n",
       "      <td>NaN</td>\n",
       "      <td>NaN</td>\n",
       "      <td>NaN</td>\n",
       "      <td>5.000000</td>\n",
       "    </tr>\n",
       "    <tr>\n",
       "      <th>75%</th>\n",
       "      <td>NaN</td>\n",
       "      <td>2017.000000</td>\n",
       "      <td>6.750000e+05</td>\n",
       "      <td>9.800000e+04</td>\n",
       "      <td>NaN</td>\n",
       "      <td>NaN</td>\n",
       "      <td>NaN</td>\n",
       "      <td>NaN</td>\n",
       "      <td>NaN</td>\n",
       "      <td>NaN</td>\n",
       "      <td>NaN</td>\n",
       "      <td>5.000000</td>\n",
       "    </tr>\n",
       "    <tr>\n",
       "      <th>max</th>\n",
       "      <td>NaN</td>\n",
       "      <td>2020.000000</td>\n",
       "      <td>1.000000e+07</td>\n",
       "      <td>2.360457e+06</td>\n",
       "      <td>NaN</td>\n",
       "      <td>NaN</td>\n",
       "      <td>NaN</td>\n",
       "      <td>NaN</td>\n",
       "      <td>NaN</td>\n",
       "      <td>NaN</td>\n",
       "      <td>NaN</td>\n",
       "      <td>14.000000</td>\n",
       "    </tr>\n",
       "  </tbody>\n",
       "</table>\n",
       "</div>"
      ],
      "text/plain": [
       "                          name         year  selling_price     km_driven  \\\n",
       "count                     8128  8128.000000   8.128000e+03  8.128000e+03   \n",
       "unique                    2058          NaN            NaN           NaN   \n",
       "top     Maruti Swift Dzire VDI          NaN            NaN           NaN   \n",
       "freq                       129          NaN            NaN           NaN   \n",
       "mean                       NaN  2013.804011   6.382718e+05  6.981951e+04   \n",
       "std                        NaN     4.044249   8.062534e+05  5.655055e+04   \n",
       "min                        NaN  1983.000000   2.999900e+04  1.000000e+00   \n",
       "25%                        NaN  2011.000000   2.549990e+05  3.500000e+04   \n",
       "50%                        NaN  2015.000000   4.500000e+05  6.000000e+04   \n",
       "75%                        NaN  2017.000000   6.750000e+05  9.800000e+04   \n",
       "max                        NaN  2020.000000   1.000000e+07  2.360457e+06   \n",
       "\n",
       "          fuel seller_type transmission        owner    mileage   engine  \\\n",
       "count     8128        8128         8128         8128       7907     7907   \n",
       "unique       4           3            2            5        393      121   \n",
       "top     Diesel  Individual       Manual  First Owner  18.9 kmpl  1248 CC   \n",
       "freq      4402        6766         7078         5289        225     1017   \n",
       "mean       NaN         NaN          NaN          NaN        NaN      NaN   \n",
       "std        NaN         NaN          NaN          NaN        NaN      NaN   \n",
       "min        NaN         NaN          NaN          NaN        NaN      NaN   \n",
       "25%        NaN         NaN          NaN          NaN        NaN      NaN   \n",
       "50%        NaN         NaN          NaN          NaN        NaN      NaN   \n",
       "75%        NaN         NaN          NaN          NaN        NaN      NaN   \n",
       "max        NaN         NaN          NaN          NaN        NaN      NaN   \n",
       "\n",
       "       max_power        seats  \n",
       "count       7913  7907.000000  \n",
       "unique       322          NaN  \n",
       "top       74 bhp          NaN  \n",
       "freq         377          NaN  \n",
       "mean         NaN     5.416719  \n",
       "std          NaN     0.959588  \n",
       "min          NaN     2.000000  \n",
       "25%          NaN     5.000000  \n",
       "50%          NaN     5.000000  \n",
       "75%          NaN     5.000000  \n",
       "max          NaN    14.000000  "
      ]
     },
     "execution_count": 6,
     "metadata": {},
     "output_type": "execute_result"
    }
   ],
   "source": [
    "df.describe(include='all')"
   ]
  },
  {
   "cell_type": "markdown",
   "id": "8537fa6f",
   "metadata": {},
   "source": [
    "# APPROCH 1 : REMOVING NULL VALUES"
   ]
  },
  {
   "cell_type": "markdown",
   "id": "25d07fc2",
   "metadata": {},
   "source": [
    "it helps to drop column with null values"
   ]
  },
  {
   "cell_type": "code",
   "execution_count": 7,
   "id": "de72abc2",
   "metadata": {},
   "outputs": [
    {
     "data": {
      "text/plain": [
       "name               0\n",
       "year               0\n",
       "selling_price      0\n",
       "km_driven          0\n",
       "fuel               0\n",
       "seller_type        0\n",
       "transmission       0\n",
       "owner              0\n",
       "mileage          221\n",
       "engine           221\n",
       "max_power        215\n",
       "seats            221\n",
       "dtype: int64"
      ]
     },
     "execution_count": 7,
     "metadata": {},
     "output_type": "execute_result"
    }
   ],
   "source": [
    "df.isnull().sum()"
   ]
  },
  {
   "cell_type": "code",
   "execution_count": 8,
   "id": "9446df48",
   "metadata": {},
   "outputs": [
    {
     "data": {
      "text/plain": [
       "(8128, 12)"
      ]
     },
     "execution_count": 8,
     "metadata": {},
     "output_type": "execute_result"
    }
   ],
   "source": [
    "df.shape"
   ]
  },
  {
   "cell_type": "code",
   "execution_count": 9,
   "id": "5de02d1e",
   "metadata": {},
   "outputs": [
    {
     "data": {
      "text/plain": [
       "<AxesSubplot:>"
      ]
     },
     "execution_count": 9,
     "metadata": {},
     "output_type": "execute_result"
    },
    {
     "data": {
      "image/png": "[encoded data removed]",
      "text/plain": [
       "<Figure size 432x288 with 1 Axes>"
      ]
     },
     "metadata": {
      "needs_background": "light"
     },
     "output_type": "display_data"
    }
   ],
   "source": [
    "import seaborn as sns\n",
    "sns.heatmap(df.isnull(),cbar=False)"
   ]
  },
  {
   "cell_type": "code",
   "execution_count": 10,
   "id": "5138a237",
   "metadata": {},
   "outputs": [],
   "source": [
    "df.dropna(inplace=True)"
   ]
  },
  {
   "cell_type": "code",
   "execution_count": 11,
   "id": "281aee45",
   "metadata": {},
   "outputs": [
    {
     "data": {
      "text/plain": [
       "name             0\n",
       "year             0\n",
       "selling_price    0\n",
       "km_driven        0\n",
       "fuel             0\n",
       "seller_type      0\n",
       "transmission     0\n",
       "owner            0\n",
       "mileage          0\n",
       "engine           0\n",
       "max_power        0\n",
       "seats            0\n",
       "dtype: int64"
      ]
     },
     "execution_count": 11,
     "metadata": {},
     "output_type": "execute_result"
    }
   ],
   "source": [
    "df.isnull().sum()"
   ]
  },
  {
   "cell_type": "code",
   "execution_count": 12,
   "id": "cdb5bbaf",
   "metadata": {},
   "outputs": [
    {
     "data": {
      "text/plain": [
       "(7907, 12)"
      ]
     },
     "execution_count": 12,
     "metadata": {},
     "output_type": "execute_result"
    }
   ],
   "source": [
    "df.shape"
   ]
  },
  {
   "cell_type": "markdown",
   "id": "24eb8639",
   "metadata": {},
   "source": [
    "looking at above data we are able to understand that the size(shape) of data is decreased due to droping the rows with null values because of this some time we loss important data(data that making impact on other values), This method is not suitable for data with small number of observations. "
   ]
  },
  {
   "cell_type": "markdown",
   "id": "f1975332",
   "metadata": {},
   "source": [
    "# APPROCH 2 : IMPUTATION"
   ]
  },
  {
   "cell_type": "markdown",
   "id": "e8a59bcf",
   "metadata": {},
   "source": [
    " Imputation  -->  Replacing null values with center of tendency"
   ]
  },
  {
   "cell_type": "code",
   "execution_count": 13,
   "id": "2ec6638e",
   "metadata": {},
   "outputs": [],
   "source": [
    "df=pd.read_csv('Car details v3.csv')"
   ]
  },
  {
   "cell_type": "code",
   "execution_count": 14,
   "id": "ce50d35b",
   "metadata": {},
   "outputs": [
    {
     "data": {
      "text/html": [
       "<div>\n",
       "<style scoped>\n",
       "    .dataframe tbody tr th:only-of-type {\n",
       "        vertical-align: middle;\n",
       "    }\n",
       "\n",
       "    .dataframe tbody tr th {\n",
       "        vertical-align: top;\n",
       "    }\n",
       "\n",
       "    .dataframe thead th {\n",
       "        text-align: right;\n",
       "    }\n",
       "</style>\n",
       "<table border=\"1\" class=\"dataframe\">\n",
       "  <thead>\n",
       "    <tr style=\"text-align: right;\">\n",
       "      <th></th>\n",
       "      <th>name</th>\n",
       "      <th>year</th>\n",
       "      <th>selling_price</th>\n",
       "      <th>km_driven</th>\n",
       "      <th>fuel</th>\n",
       "      <th>seller_type</th>\n",
       "      <th>transmission</th>\n",
       "      <th>owner</th>\n",
       "      <th>mileage</th>\n",
       "      <th>engine</th>\n",
       "      <th>max_power</th>\n",
       "      <th>seats</th>\n",
       "    </tr>\n",
       "  </thead>\n",
       "  <tbody>\n",
       "    <tr>\n",
       "      <th>0</th>\n",
       "      <td>Maruti Swift Dzire VDI</td>\n",
       "      <td>2014</td>\n",
       "      <td>450000</td>\n",
       "      <td>145500</td>\n",
       "      <td>Diesel</td>\n",
       "      <td>Individual</td>\n",
       "      <td>Manual</td>\n",
       "      <td>First Owner</td>\n",
       "      <td>23.4 kmpl</td>\n",
       "      <td>1248 CC</td>\n",
       "      <td>74 bhp</td>\n",
       "      <td>5.0</td>\n",
       "    </tr>\n",
       "    <tr>\n",
       "      <th>1</th>\n",
       "      <td>Skoda Rapid 1.5 TDI Ambition</td>\n",
       "      <td>2014</td>\n",
       "      <td>370000</td>\n",
       "      <td>120000</td>\n",
       "      <td>Diesel</td>\n",
       "      <td>Individual</td>\n",
       "      <td>Manual</td>\n",
       "      <td>Second Owner</td>\n",
       "      <td>21.14 kmpl</td>\n",
       "      <td>1498 CC</td>\n",
       "      <td>103.52 bhp</td>\n",
       "      <td>5.0</td>\n",
       "    </tr>\n",
       "    <tr>\n",
       "      <th>2</th>\n",
       "      <td>Honda City 2017-2020 EXi</td>\n",
       "      <td>2006</td>\n",
       "      <td>158000</td>\n",
       "      <td>140000</td>\n",
       "      <td>Petrol</td>\n",
       "      <td>Individual</td>\n",
       "      <td>Manual</td>\n",
       "      <td>Third Owner</td>\n",
       "      <td>17.7 kmpl</td>\n",
       "      <td>1497 CC</td>\n",
       "      <td>78 bhp</td>\n",
       "      <td>5.0</td>\n",
       "    </tr>\n",
       "    <tr>\n",
       "      <th>3</th>\n",
       "      <td>Hyundai i20 Sportz Diesel</td>\n",
       "      <td>2010</td>\n",
       "      <td>225000</td>\n",
       "      <td>127000</td>\n",
       "      <td>Diesel</td>\n",
       "      <td>Individual</td>\n",
       "      <td>Manual</td>\n",
       "      <td>First Owner</td>\n",
       "      <td>23.0 kmpl</td>\n",
       "      <td>1396 CC</td>\n",
       "      <td>90 bhp</td>\n",
       "      <td>5.0</td>\n",
       "    </tr>\n",
       "    <tr>\n",
       "      <th>4</th>\n",
       "      <td>Maruti Swift VXI BSIII</td>\n",
       "      <td>2007</td>\n",
       "      <td>130000</td>\n",
       "      <td>120000</td>\n",
       "      <td>Petrol</td>\n",
       "      <td>Individual</td>\n",
       "      <td>Manual</td>\n",
       "      <td>First Owner</td>\n",
       "      <td>16.1 kmpl</td>\n",
       "      <td>1298 CC</td>\n",
       "      <td>88.2 bhp</td>\n",
       "      <td>5.0</td>\n",
       "    </tr>\n",
       "  </tbody>\n",
       "</table>\n",
       "</div>"
      ],
      "text/plain": [
       "                           name  year  selling_price  km_driven    fuel  \\\n",
       "0        Maruti Swift Dzire VDI  2014         450000     145500  Diesel   \n",
       "1  Skoda Rapid 1.5 TDI Ambition  2014         370000     120000  Diesel   \n",
       "2      Honda City 2017-2020 EXi  2006         158000     140000  Petrol   \n",
       "3     Hyundai i20 Sportz Diesel  2010         225000     127000  Diesel   \n",
       "4        Maruti Swift VXI BSIII  2007         130000     120000  Petrol   \n",
       "\n",
       "  seller_type transmission         owner     mileage   engine   max_power  \\\n",
       "0  Individual       Manual   First Owner   23.4 kmpl  1248 CC      74 bhp   \n",
       "1  Individual       Manual  Second Owner  21.14 kmpl  1498 CC  103.52 bhp   \n",
       "2  Individual       Manual   Third Owner   17.7 kmpl  1497 CC      78 bhp   \n",
       "3  Individual       Manual   First Owner   23.0 kmpl  1396 CC      90 bhp   \n",
       "4  Individual       Manual   First Owner   16.1 kmpl  1298 CC    88.2 bhp   \n",
       "\n",
       "   seats  \n",
       "0    5.0  \n",
       "1    5.0  \n",
       "2    5.0  \n",
       "3    5.0  \n",
       "4    5.0  "
      ]
     },
     "execution_count": 14,
     "metadata": {},
     "output_type": "execute_result"
    }
   ],
   "source": [
    "df.head()"
   ]
  },
  {
   "cell_type": "code",
   "execution_count": 15,
   "id": "0678837c",
   "metadata": {},
   "outputs": [
    {
     "name": "stdout",
     "output_type": "stream",
     "text": [
      "<class 'pandas.core.frame.DataFrame'>\n",
      "RangeIndex: 8128 entries, 0 to 8127\n",
      "Data columns (total 12 columns):\n",
      " #   Column         Non-Null Count  Dtype  \n",
      "---  ------         --------------  -----  \n",
      " 0   name           8128 non-null   object \n",
      " 1   year           8128 non-null   int64  \n",
      " 2   selling_price  8128 non-null   int64  \n",
      " 3   km_driven      8128 non-null   int64  \n",
      " 4   fuel           8128 non-null   object \n",
      " 5   seller_type    8128 non-null   object \n",
      " 6   transmission   8128 non-null   object \n",
      " 7   owner          8128 non-null   object \n",
      " 8   mileage        7907 non-null   object \n",
      " 9   engine         7907 non-null   object \n",
      " 10  max_power      7913 non-null   object \n",
      " 11  seats          7907 non-null   float64\n",
      "dtypes: float64(1), int64(3), object(8)\n",
      "memory usage: 762.1+ KB\n"
     ]
    }
   ],
   "source": [
    "df.info()"
   ]
  },
  {
   "cell_type": "code",
   "execution_count": 16,
   "id": "ddee1829",
   "metadata": {},
   "outputs": [
    {
     "data": {
      "text/plain": [
       "name               0\n",
       "year               0\n",
       "selling_price      0\n",
       "km_driven          0\n",
       "fuel               0\n",
       "seller_type        0\n",
       "transmission       0\n",
       "owner              0\n",
       "mileage          221\n",
       "engine           221\n",
       "max_power        215\n",
       "seats            221\n",
       "dtype: int64"
      ]
     },
     "execution_count": 16,
     "metadata": {},
     "output_type": "execute_result"
    }
   ],
   "source": [
    "df.isnull().sum()"
   ]
  },
  {
   "cell_type": "markdown",
   "id": "4fe7ed6b",
   "metadata": {},
   "source": [
    "# DATA CLEANING OF MILEAGE COL:"
   ]
  },
  {
   "cell_type": "markdown",
   "id": "9766539c",
   "metadata": {},
   "source": [
    "Techniques to read mileage column"
   ]
  },
  {
   "cell_type": "code",
   "execution_count": 17,
   "id": "12386499",
   "metadata": {},
   "outputs": [
    {
     "data": {
      "text/plain": [
       "array(['23.4 kmpl', '21.14 kmpl', '17.7 kmpl', '23.0 kmpl', '16.1 kmpl',\n",
       "       '20.14 kmpl', '17.3 km/kg', '23.59 kmpl', '20.0 kmpl',\n",
       "       '19.01 kmpl', '17.3 kmpl', '19.3 kmpl', nan, '18.9 kmpl',\n",
       "       '18.15 kmpl', '24.52 kmpl', '19.7 kmpl', '22.54 kmpl', '21.0 kmpl',\n",
       "       '25.5 kmpl', '26.59 kmpl', '21.5 kmpl', '20.3 kmpl', '21.4 kmpl',\n",
       "       '24.7 kmpl', '18.2 kmpl', '16.8 kmpl', '24.3 kmpl', '14.0 kmpl',\n",
       "       '18.6 kmpl', '33.44 km/kg', '23.95 kmpl', '17.0 kmpl',\n",
       "       '20.63 kmpl', '13.93 kmpl', '16.0 kmpl', '17.8 kmpl', '18.5 kmpl',\n",
       "       '12.55 kmpl', '12.99 kmpl', '14.8 kmpl', '13.5 kmpl', '26.0 kmpl',\n",
       "       '20.65 kmpl', '27.3 kmpl', '11.36 kmpl', '17.68 kmpl',\n",
       "       '14.28 kmpl', '18.53 kmpl', '14.84 kmpl', '21.12 kmpl',\n",
       "       '20.36 kmpl', '21.27 kmpl', '18.16 kmpl', '22.0 kmpl', '25.1 kmpl',\n",
       "       '20.51 kmpl', '21.66 kmpl', '25.2 kmpl', '22.9 kmpl', '16.02 kmpl',\n",
       "       '20.54 kmpl', '22.77 kmpl', '15.71 kmpl', '23.1 kmpl',\n",
       "       '19.02 kmpl', '19.81 kmpl', '26.2 km/kg', '16.47 kmpl',\n",
       "       '15.04 kmpl', '19.1 kmpl', '21.79 kmpl', '18.8 kmpl', '21.21 kmpl',\n",
       "       '15.37 kmpl', '11.79 kmpl', '19.0 kmpl', '14.3 kmpl', '15.8 kmpl',\n",
       "       '15.1 kmpl', '19.09 kmpl', '22.32 kmpl', '21.9 kmpl', '14.53 kmpl',\n",
       "       '21.63 kmpl', '20.85 kmpl', '20.45 kmpl', '19.67 kmpl',\n",
       "       '23.01 kmpl', '20.77 kmpl', '17.92 kmpl', '17.01 kmpl',\n",
       "       '22.37 kmpl', '19.33 kmpl', '9.5 kmpl', '12.83 kmpl', '22.48 kmpl',\n",
       "       '16.78 kmpl', '14.67 kmpl', '15.0 kmpl', '13.96 kmpl', '18.0 kmpl',\n",
       "       '12.07 kmpl', '26.21 kmpl', '10.8 kmpl', '16.3 kmpl', '13.6 kmpl',\n",
       "       '14.74 kmpl', '15.6 kmpl', '19.56 kmpl', '22.69 kmpl',\n",
       "       '19.16 kmpl', '18.12 kmpl', '12.1 kmpl', '17.5 kmpl', '42.0 kmpl',\n",
       "       '20.4 kmpl', '21.1 kmpl', '19.44 kmpl', '13.0 kmpl', '21.43 kmpl',\n",
       "       '22.95 kmpl', '16.2 kmpl', '15.3 kmpl', '28.09 kmpl', '17.4 kmpl',\n",
       "       '19.4 kmpl', '26.6 km/kg', '17.6 kmpl', '28.4 kmpl', '14.1 kmpl',\n",
       "       '25.17 kmpl', '22.74 kmpl', '17.57 kmpl', '16.95 kmpl',\n",
       "       '19.49 kmpl', '17.21 kmpl', '13.2 kmpl', '14.2 kmpl', '26.8 kmpl',\n",
       "       '25.4 kmpl', '11.5 kmpl', '27.28 kmpl', '17.97 kmpl', '12.8 kmpl',\n",
       "       '16.55 kmpl', '12.05 kmpl', '14.07 kmpl', '21.02 kmpl',\n",
       "       '11.57 kmpl', '17.9 kmpl', '15.96 kmpl', '17.1 kmpl', '17.19 kmpl',\n",
       "       '21.01 kmpl', '24.0 kmpl', '25.6 kmpl', '21.38 kmpl', '23.84 kmpl',\n",
       "       '23.08 kmpl', '14.24 kmpl', '20.71 kmpl', '15.64 kmpl',\n",
       "       '14.5 kmpl', '16.34 kmpl', '27.39 kmpl', '11.1 kmpl', '13.9 kmpl',\n",
       "       '20.88 km/kg', '20.92 kmpl', '23.8 kmpl', '24.4 kmpl',\n",
       "       '15.29 kmpl', '21.19 kmpl', '22.5 kmpl', '19.6 kmpl', '23.65 kmpl',\n",
       "       '25.32 kmpl', '23.5 kmpl', '16.6 kmpl', '23.9 kmpl', '20.8 kmpl',\n",
       "       '27.62 kmpl', '12.9 kmpl', '25.44 kmpl', '17.88 kmpl', '22.7 kmpl',\n",
       "       '17.2 kmpl', '15.42 kmpl', '19.68 kmpl', '18.7 kmpl', '15.4 kmpl',\n",
       "       '19.34 kmpl', '22.71 kmpl', '25.8 kmpl', '13.7 kmpl', '12.2 kmpl',\n",
       "       '18.49 kmpl', '9.0 kmpl', '0.0 kmpl', '13.58 kmpl', '10.1 kmpl',\n",
       "       '20.5 kmpl', '25.0 kmpl', '10.5 kmpl', '22.07 kmpl', '22.3 kmpl',\n",
       "       '15.26 kmpl', '20.62 kmpl', '27.4 kmpl', '23.2 kmpl', '14.4 kmpl',\n",
       "       '18.4 kmpl', '30.46 km/kg', '14.02 kmpl', '11.0 kmpl', '20.6 kmpl',\n",
       "       '22.05 kmpl', '20.2 kmpl', '18.1 kmpl', '22.1 kmpl', '19.87 kmpl',\n",
       "       '13.01 kmpl', '18.06 kmpl', '26.1 kmpl', '16.52 kmpl',\n",
       "       '13.55 kmpl', '24.2 kmpl', '25.83 kmpl', '11.2 kmpl', '17.09 kmpl',\n",
       "       '21.03 kmpl', '17.45 kmpl', '21.64 kmpl', '21.94 km/kg',\n",
       "       '13.87 kmpl', '19.98 kmpl', '20.52 kmpl', '23.57 kmpl',\n",
       "       '11.7 kmpl', '17.43 kmpl', '18.88 kmpl', '13.68 kmpl',\n",
       "       '11.18 kmpl', '20.89 kmpl', '11.8 kmpl', '19.62 kmpl', '21.7 kmpl',\n",
       "       '14.9 kmpl', '19.5 kmpl', '10.91 kmpl', '15.7 kmpl', '20.73 kmpl',\n",
       "       '15.85 kmpl', '20.7 kmpl', '14.23 kmpl', '16.5 kmpl', '17.36 kmpl',\n",
       "       '12.6 kmpl', '16.36 kmpl', '14.95 kmpl', '16.9 kmpl', '19.2 kmpl',\n",
       "       '16.96 kmpl', '22.15 kmpl', '18.78 kmpl', '19.61 kmpl',\n",
       "       '17.71 kmpl', '18.3 kmpl', '19.12 kmpl', '19.72 kmpl', '12.0 kmpl',\n",
       "       '11.4 kmpl', '23.03 kmpl', '11.07 kmpl', '15.9 kmpl', '17.67 kmpl',\n",
       "       '20.46 kmpl', '13.1 kmpl', '13.45 km/kg', '24.8 kmpl',\n",
       "       '15.73 kmpl', '15.11 kmpl', '12.7 kmpl', '21.2 kmpl', '20.38 kmpl',\n",
       "       '21.56 kmpl', '13.22 kmpl', '14.49 kmpl', '15.05 kmpl',\n",
       "       '23.26 kmpl', '15.41 kmpl', '13.8 kmpl', '22.27 kmpl',\n",
       "       '32.52 km/kg', '14.66 kmpl', '12.12 kmpl', '16.84 kmpl',\n",
       "       '14.09 kmpl', '14.7 kmpl', '13.4 kmpl', '15.5 kmpl', '13.49 kmpl',\n",
       "       '11.88 km/kg', '14.6 kmpl', '10.75 kmpl', '24.5 kmpl',\n",
       "       '11.74 kmpl', '16.07 kmpl', '15.63 kmpl', '26.3 km/kg',\n",
       "       '23.7 km/kg', '25.47 kmpl', '17.05 kmpl', '23.3 kmpl', '11.9 kmpl',\n",
       "       '13.38 kmpl', '20.86 kmpl', '19.2 km/kg', '10.9 kmpl',\n",
       "       '18.25 kmpl', '15.2 kmpl', '20.37 kmpl', '17.8 km/kg', '21.8 kmpl',\n",
       "       '11.96 kmpl', '24.04 kmpl', '19.69 kmpl', '13.73 kmpl',\n",
       "       '21.04 kmpl', '25.01 kmpl', '10.93 kmpl', '10.9 km/kg',\n",
       "       '24.29 kmpl', '13.44 kmpl', '20.07 kmpl', '21.1 km/kg',\n",
       "       '19.08 kmpl', '20.34 kmpl', '11.68 kmpl', '12.5 kmpl', '12.3 kmpl',\n",
       "       '23.87 kmpl', '16.38 kmpl', '17.42 kmpl', '10.0 kmpl',\n",
       "       '18.24 kmpl', '10.71 kmpl', '19.59 kmpl', '16.7 kmpl',\n",
       "       '19.83 kmpl', '21.76 kmpl', '16.05 kmpl', '20.28 kmpl',\n",
       "       '16.25 kmpl', '16.73 kmpl', '18.48 kmpl', '13.2 km/kg',\n",
       "       '21.4 km/kg', '14.99 kmpl', '18.76 kmpl', '16.4 kmpl',\n",
       "       '19.64 kmpl', '14.94 kmpl', '16.6 km/kg', '16.0 km/kg',\n",
       "       '17.11 kmpl', '22.8 km/kg', '32.26 km/kg', '33.0 km/kg',\n",
       "       '12.4 kmpl', '18.44 kmpl', '16.09 kmpl', '19.0 km/kg',\n",
       "       '12.62 kmpl', '21.13 kmpl', '15.17 kmpl', '21.73 kmpl',\n",
       "       '21.72 kmpl', '12.85 kmpl', '14.81 kmpl', '13.24 kmpl',\n",
       "       '14.4 km/kg', '21.49 kmpl', '14.62 kmpl', '26.83 km/kg',\n",
       "       '11.45 kmpl', '12.08 kmpl', '15.74 kmpl', '11.3 kmpl',\n",
       "       '15.1 km/kg', '14.21 kmpl', '11.72 kmpl', '16.51 kmpl'],\n",
       "      dtype=object)"
      ]
     },
     "execution_count": 17,
     "metadata": {},
     "output_type": "execute_result"
    }
   ],
   "source": [
    "df.mileage.unique()"
   ]
  },
  {
   "cell_type": "code",
   "execution_count": 18,
   "id": "659f4ed6",
   "metadata": {},
   "outputs": [
    {
     "data": {
      "text/plain": [
       "array(['23.4 kmpl', '21.14 kmpl', '17.7 kmpl', '23.0 kmpl', '16.1 kmpl',\n",
       "       '20.14 kmpl', '17.3 km/kg', '23.59 kmpl', '20.0 kmpl',\n",
       "       '19.01 kmpl', '17.3 kmpl', '19.3 kmpl', nan, '18.9 kmpl',\n",
       "       '18.15 kmpl', '24.52 kmpl', '19.7 kmpl', '22.54 kmpl', '21.0 kmpl',\n",
       "       '25.5 kmpl', '26.59 kmpl', '21.5 kmpl', '20.3 kmpl', '21.4 kmpl',\n",
       "       '24.7 kmpl', '18.2 kmpl', '16.8 kmpl', '24.3 kmpl', '14.0 kmpl',\n",
       "       '18.6 kmpl', '33.44 km/kg', '23.95 kmpl', '17.0 kmpl',\n",
       "       '20.63 kmpl', '13.93 kmpl', '16.0 kmpl', '17.8 kmpl', '18.5 kmpl',\n",
       "       '12.55 kmpl', '12.99 kmpl', '14.8 kmpl', '13.5 kmpl', '26.0 kmpl',\n",
       "       '20.65 kmpl', '27.3 kmpl', '11.36 kmpl', '17.68 kmpl',\n",
       "       '14.28 kmpl', '18.53 kmpl', '14.84 kmpl', '21.12 kmpl',\n",
       "       '20.36 kmpl', '21.27 kmpl', '18.16 kmpl', '22.0 kmpl', '25.1 kmpl',\n",
       "       '20.51 kmpl', '21.66 kmpl', '25.2 kmpl', '22.9 kmpl', '16.02 kmpl',\n",
       "       '20.54 kmpl', '22.77 kmpl', '15.71 kmpl', '23.1 kmpl',\n",
       "       '19.02 kmpl', '19.81 kmpl', '26.2 km/kg', '16.47 kmpl',\n",
       "       '15.04 kmpl', '19.1 kmpl', '21.79 kmpl', '18.8 kmpl', '21.21 kmpl',\n",
       "       '15.37 kmpl', '11.79 kmpl', '19.0 kmpl', '14.3 kmpl', '15.8 kmpl',\n",
       "       '15.1 kmpl', '19.09 kmpl', '22.32 kmpl', '21.9 kmpl', '14.53 kmpl',\n",
       "       '21.63 kmpl', '20.85 kmpl', '20.45 kmpl', '19.67 kmpl',\n",
       "       '23.01 kmpl', '20.77 kmpl', '17.92 kmpl', '17.01 kmpl',\n",
       "       '22.37 kmpl', '19.33 kmpl', '9.5 kmpl', '12.83 kmpl', '22.48 kmpl',\n",
       "       '16.78 kmpl', '14.67 kmpl', '15.0 kmpl', '13.96 kmpl', '18.0 kmpl',\n",
       "       '12.07 kmpl', '26.21 kmpl', '10.8 kmpl', '16.3 kmpl', '13.6 kmpl',\n",
       "       '14.74 kmpl', '15.6 kmpl', '19.56 kmpl', '22.69 kmpl',\n",
       "       '19.16 kmpl', '18.12 kmpl', '12.1 kmpl', '17.5 kmpl', '42.0 kmpl',\n",
       "       '20.4 kmpl', '21.1 kmpl', '19.44 kmpl', '13.0 kmpl', '21.43 kmpl',\n",
       "       '22.95 kmpl', '16.2 kmpl', '15.3 kmpl', '28.09 kmpl', '17.4 kmpl',\n",
       "       '19.4 kmpl', '26.6 km/kg', '17.6 kmpl', '28.4 kmpl', '14.1 kmpl',\n",
       "       '25.17 kmpl', '22.74 kmpl', '17.57 kmpl', '16.95 kmpl',\n",
       "       '19.49 kmpl', '17.21 kmpl', '13.2 kmpl', '14.2 kmpl', '26.8 kmpl',\n",
       "       '25.4 kmpl', '11.5 kmpl', '27.28 kmpl', '17.97 kmpl', '12.8 kmpl',\n",
       "       '16.55 kmpl', '12.05 kmpl', '14.07 kmpl', '21.02 kmpl',\n",
       "       '11.57 kmpl', '17.9 kmpl', '15.96 kmpl', '17.1 kmpl', '17.19 kmpl',\n",
       "       '21.01 kmpl', '24.0 kmpl', '25.6 kmpl', '21.38 kmpl', '23.84 kmpl',\n",
       "       '23.08 kmpl', '14.24 kmpl', '20.71 kmpl', '15.64 kmpl',\n",
       "       '14.5 kmpl', '16.34 kmpl', '27.39 kmpl', '11.1 kmpl', '13.9 kmpl',\n",
       "       '20.88 km/kg', '20.92 kmpl', '23.8 kmpl', '24.4 kmpl',\n",
       "       '15.29 kmpl', '21.19 kmpl', '22.5 kmpl', '19.6 kmpl', '23.65 kmpl',\n",
       "       '25.32 kmpl', '23.5 kmpl', '16.6 kmpl', '23.9 kmpl', '20.8 kmpl',\n",
       "       '27.62 kmpl', '12.9 kmpl', '25.44 kmpl', '17.88 kmpl', '22.7 kmpl',\n",
       "       '17.2 kmpl', '15.42 kmpl', '19.68 kmpl', '18.7 kmpl', '15.4 kmpl',\n",
       "       '19.34 kmpl', '22.71 kmpl', '25.8 kmpl', '13.7 kmpl', '12.2 kmpl',\n",
       "       '18.49 kmpl', '9.0 kmpl', '0.0 kmpl', '13.58 kmpl', '10.1 kmpl',\n",
       "       '20.5 kmpl', '25.0 kmpl', '10.5 kmpl', '22.07 kmpl', '22.3 kmpl',\n",
       "       '15.26 kmpl', '20.62 kmpl', '27.4 kmpl', '23.2 kmpl', '14.4 kmpl',\n",
       "       '18.4 kmpl', '30.46 km/kg', '14.02 kmpl', '11.0 kmpl', '20.6 kmpl',\n",
       "       '22.05 kmpl', '20.2 kmpl', '18.1 kmpl', '22.1 kmpl', '19.87 kmpl',\n",
       "       '13.01 kmpl', '18.06 kmpl', '26.1 kmpl', '16.52 kmpl',\n",
       "       '13.55 kmpl', '24.2 kmpl', '25.83 kmpl', '11.2 kmpl', '17.09 kmpl',\n",
       "       '21.03 kmpl', '17.45 kmpl', '21.64 kmpl', '21.94 km/kg',\n",
       "       '13.87 kmpl', '19.98 kmpl', '20.52 kmpl', '23.57 kmpl',\n",
       "       '11.7 kmpl', '17.43 kmpl', '18.88 kmpl', '13.68 kmpl',\n",
       "       '11.18 kmpl', '20.89 kmpl', '11.8 kmpl', '19.62 kmpl', '21.7 kmpl',\n",
       "       '14.9 kmpl', '19.5 kmpl', '10.91 kmpl', '15.7 kmpl', '20.73 kmpl',\n",
       "       '15.85 kmpl', '20.7 kmpl', '14.23 kmpl', '16.5 kmpl', '17.36 kmpl',\n",
       "       '12.6 kmpl', '16.36 kmpl', '14.95 kmpl', '16.9 kmpl', '19.2 kmpl',\n",
       "       '16.96 kmpl', '22.15 kmpl', '18.78 kmpl', '19.61 kmpl',\n",
       "       '17.71 kmpl', '18.3 kmpl', '19.12 kmpl', '19.72 kmpl', '12.0 kmpl',\n",
       "       '11.4 kmpl', '23.03 kmpl', '11.07 kmpl', '15.9 kmpl', '17.67 kmpl',\n",
       "       '20.46 kmpl', '13.1 kmpl', '13.45 km/kg', '24.8 kmpl',\n",
       "       '15.73 kmpl', '15.11 kmpl', '12.7 kmpl', '21.2 kmpl', '20.38 kmpl',\n",
       "       '21.56 kmpl', '13.22 kmpl', '14.49 kmpl', '15.05 kmpl',\n",
       "       '23.26 kmpl', '15.41 kmpl', '13.8 kmpl', '22.27 kmpl',\n",
       "       '32.52 km/kg', '14.66 kmpl', '12.12 kmpl', '16.84 kmpl',\n",
       "       '14.09 kmpl', '14.7 kmpl', '13.4 kmpl', '15.5 kmpl', '13.49 kmpl',\n",
       "       '11.88 km/kg', '14.6 kmpl', '10.75 kmpl', '24.5 kmpl',\n",
       "       '11.74 kmpl', '16.07 kmpl', '15.63 kmpl', '26.3 km/kg',\n",
       "       '23.7 km/kg', '25.47 kmpl', '17.05 kmpl', '23.3 kmpl', '11.9 kmpl',\n",
       "       '13.38 kmpl', '20.86 kmpl', '19.2 km/kg', '10.9 kmpl',\n",
       "       '18.25 kmpl', '15.2 kmpl', '20.37 kmpl', '17.8 km/kg', '21.8 kmpl',\n",
       "       '11.96 kmpl', '24.04 kmpl', '19.69 kmpl', '13.73 kmpl',\n",
       "       '21.04 kmpl', '25.01 kmpl', '10.93 kmpl', '10.9 km/kg',\n",
       "       '24.29 kmpl', '13.44 kmpl', '20.07 kmpl', '21.1 km/kg',\n",
       "       '19.08 kmpl', '20.34 kmpl', '11.68 kmpl', '12.5 kmpl', '12.3 kmpl',\n",
       "       '23.87 kmpl', '16.38 kmpl', '17.42 kmpl', '10.0 kmpl',\n",
       "       '18.24 kmpl', '10.71 kmpl', '19.59 kmpl', '16.7 kmpl',\n",
       "       '19.83 kmpl', '21.76 kmpl', '16.05 kmpl', '20.28 kmpl',\n",
       "       '16.25 kmpl', '16.73 kmpl', '18.48 kmpl', '13.2 km/kg',\n",
       "       '21.4 km/kg', '14.99 kmpl', '18.76 kmpl', '16.4 kmpl',\n",
       "       '19.64 kmpl', '14.94 kmpl', '16.6 km/kg', '16.0 km/kg',\n",
       "       '17.11 kmpl', '22.8 km/kg', '32.26 km/kg', '33.0 km/kg',\n",
       "       '12.4 kmpl', '18.44 kmpl', '16.09 kmpl', '19.0 km/kg',\n",
       "       '12.62 kmpl', '21.13 kmpl', '15.17 kmpl', '21.73 kmpl',\n",
       "       '21.72 kmpl', '12.85 kmpl', '14.81 kmpl', '13.24 kmpl',\n",
       "       '14.4 km/kg', '21.49 kmpl', '14.62 kmpl', '26.83 km/kg',\n",
       "       '11.45 kmpl', '12.08 kmpl', '15.74 kmpl', '11.3 kmpl',\n",
       "       '15.1 km/kg', '14.21 kmpl', '11.72 kmpl', '16.51 kmpl'],\n",
       "      dtype=object)"
      ]
     },
     "execution_count": 18,
     "metadata": {},
     "output_type": "execute_result"
    }
   ],
   "source": [
    "df['mileage'].unique()"
   ]
  },
  {
   "cell_type": "markdown",
   "id": "bf2c31d6",
   "metadata": {},
   "source": [
    "df.mileage.unique()  -->  Do not works when column name has space between it (like 'mile age')\n",
    "if column name has spaces then use --> df['mileage'].unique()  it will be safer"
   ]
  },
  {
   "cell_type": "code",
   "execution_count": 19,
   "id": "618efbfe",
   "metadata": {},
   "outputs": [
    {
     "data": {
      "text/plain": [
       "0        [23.4, kmpl]\n",
       "1       [21.14, kmpl]\n",
       "2        [17.7, kmpl]\n",
       "3        [23.0, kmpl]\n",
       "4        [16.1, kmpl]\n",
       "            ...      \n",
       "8123     [18.5, kmpl]\n",
       "8124     [16.8, kmpl]\n",
       "8125     [19.3, kmpl]\n",
       "8126    [23.57, kmpl]\n",
       "8127    [23.57, kmpl]\n",
       "Name: mileage, Length: 8128, dtype: object"
      ]
     },
     "execution_count": 19,
     "metadata": {},
     "output_type": "execute_result"
    }
   ],
   "source": [
    "# To remove kmpl we have to split values from whitespace(' ')\n",
    "\n",
    "df['mileage'].str.split(' ')"
   ]
  },
  {
   "cell_type": "code",
   "execution_count": 20,
   "id": "cc7898b8",
   "metadata": {},
   "outputs": [
    {
     "data": {
      "text/plain": [
       "0        23.4\n",
       "1       21.14\n",
       "2        17.7\n",
       "3        23.0\n",
       "4        16.1\n",
       "        ...  \n",
       "8123     18.5\n",
       "8124     16.8\n",
       "8125     19.3\n",
       "8126    23.57\n",
       "8127    23.57\n",
       "Name: mileage, Length: 8128, dtype: object"
      ]
     },
     "execution_count": 20,
     "metadata": {},
     "output_type": "execute_result"
    }
   ],
   "source": [
    "df['mileage'].str.split(' ').str[0]"
   ]
  },
  {
   "cell_type": "code",
   "execution_count": 21,
   "id": "d17924e0",
   "metadata": {},
   "outputs": [],
   "source": [
    "# overwriting values of df['mileage'] with first string of splited object\n",
    "\n",
    "df['mileage']=df['mileage'].str.split(' ').str[0]"
   ]
  },
  {
   "cell_type": "code",
   "execution_count": 22,
   "id": "574e635e",
   "metadata": {},
   "outputs": [
    {
     "data": {
      "text/html": [
       "<div>\n",
       "<style scoped>\n",
       "    .dataframe tbody tr th:only-of-type {\n",
       "        vertical-align: middle;\n",
       "    }\n",
       "\n",
       "    .dataframe tbody tr th {\n",
       "        vertical-align: top;\n",
       "    }\n",
       "\n",
       "    .dataframe thead th {\n",
       "        text-align: right;\n",
       "    }\n",
       "</style>\n",
       "<table border=\"1\" class=\"dataframe\">\n",
       "  <thead>\n",
       "    <tr style=\"text-align: right;\">\n",
       "      <th></th>\n",
       "      <th>name</th>\n",
       "      <th>year</th>\n",
       "      <th>selling_price</th>\n",
       "      <th>km_driven</th>\n",
       "      <th>fuel</th>\n",
       "      <th>seller_type</th>\n",
       "      <th>transmission</th>\n",
       "      <th>owner</th>\n",
       "      <th>mileage</th>\n",
       "      <th>engine</th>\n",
       "      <th>max_power</th>\n",
       "      <th>seats</th>\n",
       "    </tr>\n",
       "  </thead>\n",
       "  <tbody>\n",
       "    <tr>\n",
       "      <th>0</th>\n",
       "      <td>Maruti Swift Dzire VDI</td>\n",
       "      <td>2014</td>\n",
       "      <td>450000</td>\n",
       "      <td>145500</td>\n",
       "      <td>Diesel</td>\n",
       "      <td>Individual</td>\n",
       "      <td>Manual</td>\n",
       "      <td>First Owner</td>\n",
       "      <td>23.4</td>\n",
       "      <td>1248 CC</td>\n",
       "      <td>74 bhp</td>\n",
       "      <td>5.0</td>\n",
       "    </tr>\n",
       "    <tr>\n",
       "      <th>1</th>\n",
       "      <td>Skoda Rapid 1.5 TDI Ambition</td>\n",
       "      <td>2014</td>\n",
       "      <td>370000</td>\n",
       "      <td>120000</td>\n",
       "      <td>Diesel</td>\n",
       "      <td>Individual</td>\n",
       "      <td>Manual</td>\n",
       "      <td>Second Owner</td>\n",
       "      <td>21.14</td>\n",
       "      <td>1498 CC</td>\n",
       "      <td>103.52 bhp</td>\n",
       "      <td>5.0</td>\n",
       "    </tr>\n",
       "    <tr>\n",
       "      <th>2</th>\n",
       "      <td>Honda City 2017-2020 EXi</td>\n",
       "      <td>2006</td>\n",
       "      <td>158000</td>\n",
       "      <td>140000</td>\n",
       "      <td>Petrol</td>\n",
       "      <td>Individual</td>\n",
       "      <td>Manual</td>\n",
       "      <td>Third Owner</td>\n",
       "      <td>17.7</td>\n",
       "      <td>1497 CC</td>\n",
       "      <td>78 bhp</td>\n",
       "      <td>5.0</td>\n",
       "    </tr>\n",
       "    <tr>\n",
       "      <th>3</th>\n",
       "      <td>Hyundai i20 Sportz Diesel</td>\n",
       "      <td>2010</td>\n",
       "      <td>225000</td>\n",
       "      <td>127000</td>\n",
       "      <td>Diesel</td>\n",
       "      <td>Individual</td>\n",
       "      <td>Manual</td>\n",
       "      <td>First Owner</td>\n",
       "      <td>23.0</td>\n",
       "      <td>1396 CC</td>\n",
       "      <td>90 bhp</td>\n",
       "      <td>5.0</td>\n",
       "    </tr>\n",
       "    <tr>\n",
       "      <th>4</th>\n",
       "      <td>Maruti Swift VXI BSIII</td>\n",
       "      <td>2007</td>\n",
       "      <td>130000</td>\n",
       "      <td>120000</td>\n",
       "      <td>Petrol</td>\n",
       "      <td>Individual</td>\n",
       "      <td>Manual</td>\n",
       "      <td>First Owner</td>\n",
       "      <td>16.1</td>\n",
       "      <td>1298 CC</td>\n",
       "      <td>88.2 bhp</td>\n",
       "      <td>5.0</td>\n",
       "    </tr>\n",
       "  </tbody>\n",
       "</table>\n",
       "</div>"
      ],
      "text/plain": [
       "                           name  year  selling_price  km_driven    fuel  \\\n",
       "0        Maruti Swift Dzire VDI  2014         450000     145500  Diesel   \n",
       "1  Skoda Rapid 1.5 TDI Ambition  2014         370000     120000  Diesel   \n",
       "2      Honda City 2017-2020 EXi  2006         158000     140000  Petrol   \n",
       "3     Hyundai i20 Sportz Diesel  2010         225000     127000  Diesel   \n",
       "4        Maruti Swift VXI BSIII  2007         130000     120000  Petrol   \n",
       "\n",
       "  seller_type transmission         owner mileage   engine   max_power  seats  \n",
       "0  Individual       Manual   First Owner    23.4  1248 CC      74 bhp    5.0  \n",
       "1  Individual       Manual  Second Owner   21.14  1498 CC  103.52 bhp    5.0  \n",
       "2  Individual       Manual   Third Owner    17.7  1497 CC      78 bhp    5.0  \n",
       "3  Individual       Manual   First Owner    23.0  1396 CC      90 bhp    5.0  \n",
       "4  Individual       Manual   First Owner    16.1  1298 CC    88.2 bhp    5.0  "
      ]
     },
     "execution_count": 22,
     "metadata": {},
     "output_type": "execute_result"
    }
   ],
   "source": [
    "df.head()"
   ]
  },
  {
   "cell_type": "code",
   "execution_count": 23,
   "id": "1fbf14fc",
   "metadata": {},
   "outputs": [
    {
     "name": "stdout",
     "output_type": "stream",
     "text": [
      "<class 'pandas.core.frame.DataFrame'>\n",
      "RangeIndex: 8128 entries, 0 to 8127\n",
      "Data columns (total 12 columns):\n",
      " #   Column         Non-Null Count  Dtype  \n",
      "---  ------         --------------  -----  \n",
      " 0   name           8128 non-null   object \n",
      " 1   year           8128 non-null   int64  \n",
      " 2   selling_price  8128 non-null   int64  \n",
      " 3   km_driven      8128 non-null   int64  \n",
      " 4   fuel           8128 non-null   object \n",
      " 5   seller_type    8128 non-null   object \n",
      " 6   transmission   8128 non-null   object \n",
      " 7   owner          8128 non-null   object \n",
      " 8   mileage        7907 non-null   object \n",
      " 9   engine         7907 non-null   object \n",
      " 10  max_power      7913 non-null   object \n",
      " 11  seats          7907 non-null   float64\n",
      "dtypes: float64(1), int64(3), object(8)\n",
      "memory usage: 762.1+ KB\n"
     ]
    }
   ],
   "source": [
    "df.info()"
   ]
  },
  {
   "cell_type": "code",
   "execution_count": 24,
   "id": "1903a329",
   "metadata": {},
   "outputs": [],
   "source": [
    "# Changing data type to float \n",
    "# computation become easier \n",
    "\n",
    "df['mileage']=df['mileage'].astype(float)"
   ]
  },
  {
   "cell_type": "code",
   "execution_count": 25,
   "id": "95a2b541",
   "metadata": {},
   "outputs": [
    {
     "name": "stdout",
     "output_type": "stream",
     "text": [
      "<class 'pandas.core.frame.DataFrame'>\n",
      "RangeIndex: 8128 entries, 0 to 8127\n",
      "Data columns (total 12 columns):\n",
      " #   Column         Non-Null Count  Dtype  \n",
      "---  ------         --------------  -----  \n",
      " 0   name           8128 non-null   object \n",
      " 1   year           8128 non-null   int64  \n",
      " 2   selling_price  8128 non-null   int64  \n",
      " 3   km_driven      8128 non-null   int64  \n",
      " 4   fuel           8128 non-null   object \n",
      " 5   seller_type    8128 non-null   object \n",
      " 6   transmission   8128 non-null   object \n",
      " 7   owner          8128 non-null   object \n",
      " 8   mileage        7907 non-null   float64\n",
      " 9   engine         7907 non-null   object \n",
      " 10  max_power      7913 non-null   object \n",
      " 11  seats          7907 non-null   float64\n",
      "dtypes: float64(2), int64(3), object(7)\n",
      "memory usage: 762.1+ KB\n"
     ]
    }
   ],
   "source": [
    "# Datatype of mileage is changed here\n",
    "\n",
    "df.info()"
   ]
  },
  {
   "cell_type": "markdown",
   "id": "887ca5e0",
   "metadata": {},
   "source": [
    "# DATA IMPUTATION FOR MILEAGE COLUMN"
   ]
  },
  {
   "cell_type": "code",
   "execution_count": 26,
   "id": "1cff194f",
   "metadata": {},
   "outputs": [
    {
     "data": {
      "text/plain": [
       "name               0\n",
       "year               0\n",
       "selling_price      0\n",
       "km_driven          0\n",
       "fuel               0\n",
       "seller_type        0\n",
       "transmission       0\n",
       "owner              0\n",
       "mileage          221\n",
       "engine           221\n",
       "max_power        215\n",
       "seats            221\n",
       "dtype: int64"
      ]
     },
     "execution_count": 26,
     "metadata": {},
     "output_type": "execute_result"
    }
   ],
   "source": [
    "df.isnull().sum()"
   ]
  },
  {
   "cell_type": "code",
   "execution_count": 27,
   "id": "b3709d57",
   "metadata": {},
   "outputs": [
    {
     "data": {
      "text/plain": [
       "<AxesSubplot:xlabel='mileage', ylabel='Density'>"
      ]
     },
     "execution_count": 27,
     "metadata": {},
     "output_type": "execute_result"
    },
    {
     "data": {
      "image/png": "[encoded data removed]",
      "text/plain": [
       "<Figure size 432x288 with 1 Axes>"
      ]
     },
     "metadata": {
      "needs_background": "light"
     },
     "output_type": "display_data"
    }
   ],
   "source": [
    "# Shows how values are distributed\n",
    "\n",
    "sns.distplot(df['mileage'],kde=True)"
   ]
  },
  {
   "cell_type": "code",
   "execution_count": 28,
   "id": "a398b778",
   "metadata": {},
   "outputs": [],
   "source": [
    "# Because values are normally distributed use mean to replace null values\n",
    "\n",
    "df['mileage'].fillna(df['mileage'].mean(),inplace=True)"
   ]
  },
  {
   "cell_type": "code",
   "execution_count": 29,
   "id": "d2b8f90b",
   "metadata": {},
   "outputs": [
    {
     "data": {
      "text/plain": [
       "name               0\n",
       "year               0\n",
       "selling_price      0\n",
       "km_driven          0\n",
       "fuel               0\n",
       "seller_type        0\n",
       "transmission       0\n",
       "owner              0\n",
       "mileage            0\n",
       "engine           221\n",
       "max_power        215\n",
       "seats            221\n",
       "dtype: int64"
      ]
     },
     "execution_count": 29,
     "metadata": {},
     "output_type": "execute_result"
    }
   ],
   "source": [
    "# Checking col mileage for null values\n",
    "\n",
    "df.isnull().sum()"
   ]
  },
  {
   "cell_type": "markdown",
   "id": "d3bb822e",
   "metadata": {},
   "source": [
    "# DATA CLEANING AND IMPUTATION FOR ENGINE COL:"
   ]
  },
  {
   "cell_type": "code",
   "execution_count": 30,
   "id": "70cb0379",
   "metadata": {},
   "outputs": [
    {
     "data": {
      "text/html": [
       "<div>\n",
       "<style scoped>\n",
       "    .dataframe tbody tr th:only-of-type {\n",
       "        vertical-align: middle;\n",
       "    }\n",
       "\n",
       "    .dataframe tbody tr th {\n",
       "        vertical-align: top;\n",
       "    }\n",
       "\n",
       "    .dataframe thead th {\n",
       "        text-align: right;\n",
       "    }\n",
       "</style>\n",
       "<table border=\"1\" class=\"dataframe\">\n",
       "  <thead>\n",
       "    <tr style=\"text-align: right;\">\n",
       "      <th></th>\n",
       "      <th>name</th>\n",
       "      <th>year</th>\n",
       "      <th>selling_price</th>\n",
       "      <th>km_driven</th>\n",
       "      <th>fuel</th>\n",
       "      <th>seller_type</th>\n",
       "      <th>transmission</th>\n",
       "      <th>owner</th>\n",
       "      <th>mileage</th>\n",
       "      <th>engine</th>\n",
       "      <th>max_power</th>\n",
       "      <th>seats</th>\n",
       "    </tr>\n",
       "  </thead>\n",
       "  <tbody>\n",
       "    <tr>\n",
       "      <th>0</th>\n",
       "      <td>Maruti Swift Dzire VDI</td>\n",
       "      <td>2014</td>\n",
       "      <td>450000</td>\n",
       "      <td>145500</td>\n",
       "      <td>Diesel</td>\n",
       "      <td>Individual</td>\n",
       "      <td>Manual</td>\n",
       "      <td>First Owner</td>\n",
       "      <td>23.40</td>\n",
       "      <td>1248 CC</td>\n",
       "      <td>74 bhp</td>\n",
       "      <td>5.0</td>\n",
       "    </tr>\n",
       "    <tr>\n",
       "      <th>1</th>\n",
       "      <td>Skoda Rapid 1.5 TDI Ambition</td>\n",
       "      <td>2014</td>\n",
       "      <td>370000</td>\n",
       "      <td>120000</td>\n",
       "      <td>Diesel</td>\n",
       "      <td>Individual</td>\n",
       "      <td>Manual</td>\n",
       "      <td>Second Owner</td>\n",
       "      <td>21.14</td>\n",
       "      <td>1498 CC</td>\n",
       "      <td>103.52 bhp</td>\n",
       "      <td>5.0</td>\n",
       "    </tr>\n",
       "    <tr>\n",
       "      <th>2</th>\n",
       "      <td>Honda City 2017-2020 EXi</td>\n",
       "      <td>2006</td>\n",
       "      <td>158000</td>\n",
       "      <td>140000</td>\n",
       "      <td>Petrol</td>\n",
       "      <td>Individual</td>\n",
       "      <td>Manual</td>\n",
       "      <td>Third Owner</td>\n",
       "      <td>17.70</td>\n",
       "      <td>1497 CC</td>\n",
       "      <td>78 bhp</td>\n",
       "      <td>5.0</td>\n",
       "    </tr>\n",
       "    <tr>\n",
       "      <th>3</th>\n",
       "      <td>Hyundai i20 Sportz Diesel</td>\n",
       "      <td>2010</td>\n",
       "      <td>225000</td>\n",
       "      <td>127000</td>\n",
       "      <td>Diesel</td>\n",
       "      <td>Individual</td>\n",
       "      <td>Manual</td>\n",
       "      <td>First Owner</td>\n",
       "      <td>23.00</td>\n",
       "      <td>1396 CC</td>\n",
       "      <td>90 bhp</td>\n",
       "      <td>5.0</td>\n",
       "    </tr>\n",
       "    <tr>\n",
       "      <th>4</th>\n",
       "      <td>Maruti Swift VXI BSIII</td>\n",
       "      <td>2007</td>\n",
       "      <td>130000</td>\n",
       "      <td>120000</td>\n",
       "      <td>Petrol</td>\n",
       "      <td>Individual</td>\n",
       "      <td>Manual</td>\n",
       "      <td>First Owner</td>\n",
       "      <td>16.10</td>\n",
       "      <td>1298 CC</td>\n",
       "      <td>88.2 bhp</td>\n",
       "      <td>5.0</td>\n",
       "    </tr>\n",
       "  </tbody>\n",
       "</table>\n",
       "</div>"
      ],
      "text/plain": [
       "                           name  year  selling_price  km_driven    fuel  \\\n",
       "0        Maruti Swift Dzire VDI  2014         450000     145500  Diesel   \n",
       "1  Skoda Rapid 1.5 TDI Ambition  2014         370000     120000  Diesel   \n",
       "2      Honda City 2017-2020 EXi  2006         158000     140000  Petrol   \n",
       "3     Hyundai i20 Sportz Diesel  2010         225000     127000  Diesel   \n",
       "4        Maruti Swift VXI BSIII  2007         130000     120000  Petrol   \n",
       "\n",
       "  seller_type transmission         owner  mileage   engine   max_power  seats  \n",
       "0  Individual       Manual   First Owner    23.40  1248 CC      74 bhp    5.0  \n",
       "1  Individual       Manual  Second Owner    21.14  1498 CC  103.52 bhp    5.0  \n",
       "2  Individual       Manual   Third Owner    17.70  1497 CC      78 bhp    5.0  \n",
       "3  Individual       Manual   First Owner    23.00  1396 CC      90 bhp    5.0  \n",
       "4  Individual       Manual   First Owner    16.10  1298 CC    88.2 bhp    5.0  "
      ]
     },
     "execution_count": 30,
     "metadata": {},
     "output_type": "execute_result"
    }
   ],
   "source": [
    "df.head()"
   ]
  },
  {
   "cell_type": "code",
   "execution_count": 31,
   "id": "524ce220",
   "metadata": {},
   "outputs": [],
   "source": [
    "# Splitting from whitespace\n",
    "\n",
    "df['engine']=df['engine'].str.split(' ').str[0]"
   ]
  },
  {
   "cell_type": "code",
   "execution_count": 32,
   "id": "fe2fa688",
   "metadata": {},
   "outputs": [
    {
     "data": {
      "text/plain": [
       "0       1248\n",
       "1       1498\n",
       "2       1497\n",
       "3       1396\n",
       "4       1298\n",
       "        ... \n",
       "8123    1197\n",
       "8124    1493\n",
       "8125    1248\n",
       "8126    1396\n",
       "8127    1396\n",
       "Name: engine, Length: 8128, dtype: object"
      ]
     },
     "execution_count": 32,
     "metadata": {},
     "output_type": "execute_result"
    }
   ],
   "source": [
    "df['engine']"
   ]
  },
  {
   "cell_type": "code",
   "execution_count": 33,
   "id": "c57669b6",
   "metadata": {},
   "outputs": [
    {
     "data": {
      "text/html": [
       "<div>\n",
       "<style scoped>\n",
       "    .dataframe tbody tr th:only-of-type {\n",
       "        vertical-align: middle;\n",
       "    }\n",
       "\n",
       "    .dataframe tbody tr th {\n",
       "        vertical-align: top;\n",
       "    }\n",
       "\n",
       "    .dataframe thead th {\n",
       "        text-align: right;\n",
       "    }\n",
       "</style>\n",
       "<table border=\"1\" class=\"dataframe\">\n",
       "  <thead>\n",
       "    <tr style=\"text-align: right;\">\n",
       "      <th></th>\n",
       "      <th>name</th>\n",
       "      <th>year</th>\n",
       "      <th>selling_price</th>\n",
       "      <th>km_driven</th>\n",
       "      <th>fuel</th>\n",
       "      <th>seller_type</th>\n",
       "      <th>transmission</th>\n",
       "      <th>owner</th>\n",
       "      <th>mileage</th>\n",
       "      <th>engine</th>\n",
       "      <th>max_power</th>\n",
       "      <th>seats</th>\n",
       "    </tr>\n",
       "  </thead>\n",
       "  <tbody>\n",
       "    <tr>\n",
       "      <th>0</th>\n",
       "      <td>Maruti Swift Dzire VDI</td>\n",
       "      <td>2014</td>\n",
       "      <td>450000</td>\n",
       "      <td>145500</td>\n",
       "      <td>Diesel</td>\n",
       "      <td>Individual</td>\n",
       "      <td>Manual</td>\n",
       "      <td>First Owner</td>\n",
       "      <td>23.40</td>\n",
       "      <td>1248</td>\n",
       "      <td>74 bhp</td>\n",
       "      <td>5.0</td>\n",
       "    </tr>\n",
       "    <tr>\n",
       "      <th>1</th>\n",
       "      <td>Skoda Rapid 1.5 TDI Ambition</td>\n",
       "      <td>2014</td>\n",
       "      <td>370000</td>\n",
       "      <td>120000</td>\n",
       "      <td>Diesel</td>\n",
       "      <td>Individual</td>\n",
       "      <td>Manual</td>\n",
       "      <td>Second Owner</td>\n",
       "      <td>21.14</td>\n",
       "      <td>1498</td>\n",
       "      <td>103.52 bhp</td>\n",
       "      <td>5.0</td>\n",
       "    </tr>\n",
       "    <tr>\n",
       "      <th>2</th>\n",
       "      <td>Honda City 2017-2020 EXi</td>\n",
       "      <td>2006</td>\n",
       "      <td>158000</td>\n",
       "      <td>140000</td>\n",
       "      <td>Petrol</td>\n",
       "      <td>Individual</td>\n",
       "      <td>Manual</td>\n",
       "      <td>Third Owner</td>\n",
       "      <td>17.70</td>\n",
       "      <td>1497</td>\n",
       "      <td>78 bhp</td>\n",
       "      <td>5.0</td>\n",
       "    </tr>\n",
       "    <tr>\n",
       "      <th>3</th>\n",
       "      <td>Hyundai i20 Sportz Diesel</td>\n",
       "      <td>2010</td>\n",
       "      <td>225000</td>\n",
       "      <td>127000</td>\n",
       "      <td>Diesel</td>\n",
       "      <td>Individual</td>\n",
       "      <td>Manual</td>\n",
       "      <td>First Owner</td>\n",
       "      <td>23.00</td>\n",
       "      <td>1396</td>\n",
       "      <td>90 bhp</td>\n",
       "      <td>5.0</td>\n",
       "    </tr>\n",
       "    <tr>\n",
       "      <th>4</th>\n",
       "      <td>Maruti Swift VXI BSIII</td>\n",
       "      <td>2007</td>\n",
       "      <td>130000</td>\n",
       "      <td>120000</td>\n",
       "      <td>Petrol</td>\n",
       "      <td>Individual</td>\n",
       "      <td>Manual</td>\n",
       "      <td>First Owner</td>\n",
       "      <td>16.10</td>\n",
       "      <td>1298</td>\n",
       "      <td>88.2 bhp</td>\n",
       "      <td>5.0</td>\n",
       "    </tr>\n",
       "  </tbody>\n",
       "</table>\n",
       "</div>"
      ],
      "text/plain": [
       "                           name  year  selling_price  km_driven    fuel  \\\n",
       "0        Maruti Swift Dzire VDI  2014         450000     145500  Diesel   \n",
       "1  Skoda Rapid 1.5 TDI Ambition  2014         370000     120000  Diesel   \n",
       "2      Honda City 2017-2020 EXi  2006         158000     140000  Petrol   \n",
       "3     Hyundai i20 Sportz Diesel  2010         225000     127000  Diesel   \n",
       "4        Maruti Swift VXI BSIII  2007         130000     120000  Petrol   \n",
       "\n",
       "  seller_type transmission         owner  mileage engine   max_power  seats  \n",
       "0  Individual       Manual   First Owner    23.40   1248      74 bhp    5.0  \n",
       "1  Individual       Manual  Second Owner    21.14   1498  103.52 bhp    5.0  \n",
       "2  Individual       Manual   Third Owner    17.70   1497      78 bhp    5.0  \n",
       "3  Individual       Manual   First Owner    23.00   1396      90 bhp    5.0  \n",
       "4  Individual       Manual   First Owner    16.10   1298    88.2 bhp    5.0  "
      ]
     },
     "execution_count": 33,
     "metadata": {},
     "output_type": "execute_result"
    }
   ],
   "source": [
    "df.head()"
   ]
  },
  {
   "cell_type": "code",
   "execution_count": 34,
   "id": "d0da4d99",
   "metadata": {},
   "outputs": [
    {
     "name": "stdout",
     "output_type": "stream",
     "text": [
      "<class 'pandas.core.frame.DataFrame'>\n",
      "RangeIndex: 8128 entries, 0 to 8127\n",
      "Data columns (total 12 columns):\n",
      " #   Column         Non-Null Count  Dtype  \n",
      "---  ------         --------------  -----  \n",
      " 0   name           8128 non-null   object \n",
      " 1   year           8128 non-null   int64  \n",
      " 2   selling_price  8128 non-null   int64  \n",
      " 3   km_driven      8128 non-null   int64  \n",
      " 4   fuel           8128 non-null   object \n",
      " 5   seller_type    8128 non-null   object \n",
      " 6   transmission   8128 non-null   object \n",
      " 7   owner          8128 non-null   object \n",
      " 8   mileage        8128 non-null   float64\n",
      " 9   engine         7907 non-null   object \n",
      " 10  max_power      7913 non-null   object \n",
      " 11  seats          7907 non-null   float64\n",
      "dtypes: float64(2), int64(3), object(7)\n",
      "memory usage: 762.1+ KB\n"
     ]
    }
   ],
   "source": [
    "df.info()"
   ]
  },
  {
   "cell_type": "code",
   "execution_count": 35,
   "id": "f91ef3f7",
   "metadata": {},
   "outputs": [],
   "source": [
    "# Changing datatype\n",
    "\n",
    "df['engine']=df['engine'].astype(float)"
   ]
  },
  {
   "cell_type": "code",
   "execution_count": 36,
   "id": "89a376aa",
   "metadata": {},
   "outputs": [
    {
     "name": "stdout",
     "output_type": "stream",
     "text": [
      "<class 'pandas.core.frame.DataFrame'>\n",
      "RangeIndex: 8128 entries, 0 to 8127\n",
      "Data columns (total 12 columns):\n",
      " #   Column         Non-Null Count  Dtype  \n",
      "---  ------         --------------  -----  \n",
      " 0   name           8128 non-null   object \n",
      " 1   year           8128 non-null   int64  \n",
      " 2   selling_price  8128 non-null   int64  \n",
      " 3   km_driven      8128 non-null   int64  \n",
      " 4   fuel           8128 non-null   object \n",
      " 5   seller_type    8128 non-null   object \n",
      " 6   transmission   8128 non-null   object \n",
      " 7   owner          8128 non-null   object \n",
      " 8   mileage        8128 non-null   float64\n",
      " 9   engine         7907 non-null   float64\n",
      " 10  max_power      7913 non-null   object \n",
      " 11  seats          7907 non-null   float64\n",
      "dtypes: float64(3), int64(3), object(6)\n",
      "memory usage: 762.1+ KB\n"
     ]
    }
   ],
   "source": [
    "df.info()"
   ]
  },
  {
   "cell_type": "code",
   "execution_count": 37,
   "id": "dcb50191",
   "metadata": {},
   "outputs": [
    {
     "data": {
      "text/plain": [
       "<AxesSubplot:xlabel='engine', ylabel='Density'>"
      ]
     },
     "execution_count": 37,
     "metadata": {},
     "output_type": "execute_result"
    },
    {
     "data": {
      "image/png": "[encoded data removed]",
      "text/plain": [
       "<Figure size 432x288 with 1 Axes>"
      ]
     },
     "metadata": {
      "needs_background": "light"
     },
     "output_type": "display_data"
    }
   ],
   "source": [
    "# Distribution od values\n",
    "\n",
    "sns.distplot(df['engine'],kde=True)"
   ]
  },
  {
   "cell_type": "code",
   "execution_count": 38,
   "id": "d73d709c",
   "metadata": {},
   "outputs": [],
   "source": [
    "# Not normally distributed so use median to replace it\n",
    "\n",
    "df['engine'].fillna(df['engine'].median(),inplace=True)"
   ]
  },
  {
   "cell_type": "code",
   "execution_count": 39,
   "id": "1b7c2c0a",
   "metadata": {},
   "outputs": [
    {
     "data": {
      "text/plain": [
       "name               0\n",
       "year               0\n",
       "selling_price      0\n",
       "km_driven          0\n",
       "fuel               0\n",
       "seller_type        0\n",
       "transmission       0\n",
       "owner              0\n",
       "mileage            0\n",
       "engine             0\n",
       "max_power        215\n",
       "seats            221\n",
       "dtype: int64"
      ]
     },
     "execution_count": 39,
     "metadata": {},
     "output_type": "execute_result"
    }
   ],
   "source": [
    "# Checking for null values\n",
    "\n",
    "df.isnull().sum()"
   ]
  },
  {
   "cell_type": "markdown",
   "id": "6e46be47",
   "metadata": {},
   "source": [
    "# DATA CLEANING AND IMPUTATION FOR MAX POWER COL:"
   ]
  },
  {
   "cell_type": "code",
   "execution_count": 40,
   "id": "8b2a3514",
   "metadata": {},
   "outputs": [
    {
     "data": {
      "text/html": [
       "<div>\n",
       "<style scoped>\n",
       "    .dataframe tbody tr th:only-of-type {\n",
       "        vertical-align: middle;\n",
       "    }\n",
       "\n",
       "    .dataframe tbody tr th {\n",
       "        vertical-align: top;\n",
       "    }\n",
       "\n",
       "    .dataframe thead th {\n",
       "        text-align: right;\n",
       "    }\n",
       "</style>\n",
       "<table border=\"1\" class=\"dataframe\">\n",
       "  <thead>\n",
       "    <tr style=\"text-align: right;\">\n",
       "      <th></th>\n",
       "      <th>name</th>\n",
       "      <th>year</th>\n",
       "      <th>selling_price</th>\n",
       "      <th>km_driven</th>\n",
       "      <th>fuel</th>\n",
       "      <th>seller_type</th>\n",
       "      <th>transmission</th>\n",
       "      <th>owner</th>\n",
       "      <th>mileage</th>\n",
       "      <th>engine</th>\n",
       "      <th>max_power</th>\n",
       "      <th>seats</th>\n",
       "    </tr>\n",
       "  </thead>\n",
       "  <tbody>\n",
       "    <tr>\n",
       "      <th>0</th>\n",
       "      <td>Maruti Swift Dzire VDI</td>\n",
       "      <td>2014</td>\n",
       "      <td>450000</td>\n",
       "      <td>145500</td>\n",
       "      <td>Diesel</td>\n",
       "      <td>Individual</td>\n",
       "      <td>Manual</td>\n",
       "      <td>First Owner</td>\n",
       "      <td>23.40</td>\n",
       "      <td>1248.0</td>\n",
       "      <td>74 bhp</td>\n",
       "      <td>5.0</td>\n",
       "    </tr>\n",
       "    <tr>\n",
       "      <th>1</th>\n",
       "      <td>Skoda Rapid 1.5 TDI Ambition</td>\n",
       "      <td>2014</td>\n",
       "      <td>370000</td>\n",
       "      <td>120000</td>\n",
       "      <td>Diesel</td>\n",
       "      <td>Individual</td>\n",
       "      <td>Manual</td>\n",
       "      <td>Second Owner</td>\n",
       "      <td>21.14</td>\n",
       "      <td>1498.0</td>\n",
       "      <td>103.52 bhp</td>\n",
       "      <td>5.0</td>\n",
       "    </tr>\n",
       "    <tr>\n",
       "      <th>2</th>\n",
       "      <td>Honda City 2017-2020 EXi</td>\n",
       "      <td>2006</td>\n",
       "      <td>158000</td>\n",
       "      <td>140000</td>\n",
       "      <td>Petrol</td>\n",
       "      <td>Individual</td>\n",
       "      <td>Manual</td>\n",
       "      <td>Third Owner</td>\n",
       "      <td>17.70</td>\n",
       "      <td>1497.0</td>\n",
       "      <td>78 bhp</td>\n",
       "      <td>5.0</td>\n",
       "    </tr>\n",
       "    <tr>\n",
       "      <th>3</th>\n",
       "      <td>Hyundai i20 Sportz Diesel</td>\n",
       "      <td>2010</td>\n",
       "      <td>225000</td>\n",
       "      <td>127000</td>\n",
       "      <td>Diesel</td>\n",
       "      <td>Individual</td>\n",
       "      <td>Manual</td>\n",
       "      <td>First Owner</td>\n",
       "      <td>23.00</td>\n",
       "      <td>1396.0</td>\n",
       "      <td>90 bhp</td>\n",
       "      <td>5.0</td>\n",
       "    </tr>\n",
       "    <tr>\n",
       "      <th>4</th>\n",
       "      <td>Maruti Swift VXI BSIII</td>\n",
       "      <td>2007</td>\n",
       "      <td>130000</td>\n",
       "      <td>120000</td>\n",
       "      <td>Petrol</td>\n",
       "      <td>Individual</td>\n",
       "      <td>Manual</td>\n",
       "      <td>First Owner</td>\n",
       "      <td>16.10</td>\n",
       "      <td>1298.0</td>\n",
       "      <td>88.2 bhp</td>\n",
       "      <td>5.0</td>\n",
       "    </tr>\n",
       "  </tbody>\n",
       "</table>\n",
       "</div>"
      ],
      "text/plain": [
       "                           name  year  selling_price  km_driven    fuel  \\\n",
       "0        Maruti Swift Dzire VDI  2014         450000     145500  Diesel   \n",
       "1  Skoda Rapid 1.5 TDI Ambition  2014         370000     120000  Diesel   \n",
       "2      Honda City 2017-2020 EXi  2006         158000     140000  Petrol   \n",
       "3     Hyundai i20 Sportz Diesel  2010         225000     127000  Diesel   \n",
       "4        Maruti Swift VXI BSIII  2007         130000     120000  Petrol   \n",
       "\n",
       "  seller_type transmission         owner  mileage  engine   max_power  seats  \n",
       "0  Individual       Manual   First Owner    23.40  1248.0      74 bhp    5.0  \n",
       "1  Individual       Manual  Second Owner    21.14  1498.0  103.52 bhp    5.0  \n",
       "2  Individual       Manual   Third Owner    17.70  1497.0      78 bhp    5.0  \n",
       "3  Individual       Manual   First Owner    23.00  1396.0      90 bhp    5.0  \n",
       "4  Individual       Manual   First Owner    16.10  1298.0    88.2 bhp    5.0  "
      ]
     },
     "execution_count": 40,
     "metadata": {},
     "output_type": "execute_result"
    }
   ],
   "source": [
    "df.head()"
   ]
  },
  {
   "cell_type": "code",
   "execution_count": 41,
   "id": "7ea9ebb1",
   "metadata": {},
   "outputs": [
    {
     "name": "stdout",
     "output_type": "stream",
     "text": [
      "<class 'pandas.core.frame.DataFrame'>\n",
      "RangeIndex: 8128 entries, 0 to 8127\n",
      "Data columns (total 12 columns):\n",
      " #   Column         Non-Null Count  Dtype  \n",
      "---  ------         --------------  -----  \n",
      " 0   name           8128 non-null   object \n",
      " 1   year           8128 non-null   int64  \n",
      " 2   selling_price  8128 non-null   int64  \n",
      " 3   km_driven      8128 non-null   int64  \n",
      " 4   fuel           8128 non-null   object \n",
      " 5   seller_type    8128 non-null   object \n",
      " 6   transmission   8128 non-null   object \n",
      " 7   owner          8128 non-null   object \n",
      " 8   mileage        8128 non-null   float64\n",
      " 9   engine         8128 non-null   float64\n",
      " 10  max_power      7913 non-null   object \n",
      " 11  seats          7907 non-null   float64\n",
      "dtypes: float64(3), int64(3), object(6)\n",
      "memory usage: 762.1+ KB\n"
     ]
    }
   ],
   "source": [
    "df.info()"
   ]
  },
  {
   "cell_type": "markdown",
   "id": "73b9c94d",
   "metadata": {},
   "source": [
    "splitting at whitespace will not work here because some values here are only 'bhp' After spliting it it will remain as it is('bhp','') so splitting at b become easier , It will split bhp as ('','hp')"
   ]
  },
  {
   "cell_type": "code",
   "execution_count": 42,
   "id": "1777d042",
   "metadata": {},
   "outputs": [],
   "source": [
    "# df['max_power']=df['max_power'].str.split(' ').str[0].astype(float)\n",
    "df['max_power']=df['max_power'].str.split('b').str[0]"
   ]
  },
  {
   "cell_type": "markdown",
   "id": "2b463c7d",
   "metadata": {},
   "source": [
    "df['max_power']=df['max_power'].str.split(' ').str[0].astype(float)  -->  As we can not convert it derectly to float because it contain string of length 0 or (''), \n",
    "if you try to convert it directly then it will give error as we can not convert string to float\n",
    "so firstly we have to convert all empty strings to nan "
   ]
  },
  {
   "cell_type": "code",
   "execution_count": 43,
   "id": "02f1e535",
   "metadata": {},
   "outputs": [],
   "source": [
    "df['max_power']=df['max_power'].replace('','nan')"
   ]
  },
  {
   "cell_type": "code",
   "execution_count": 44,
   "id": "83377a30",
   "metadata": {},
   "outputs": [],
   "source": [
    "# Changing datatype\n",
    "\n",
    "df['max_power']=df['max_power'].astype(float)"
   ]
  },
  {
   "cell_type": "code",
   "execution_count": 45,
   "id": "12dc89b1",
   "metadata": {},
   "outputs": [
    {
     "name": "stdout",
     "output_type": "stream",
     "text": [
      "<class 'pandas.core.frame.DataFrame'>\n",
      "RangeIndex: 8128 entries, 0 to 8127\n",
      "Data columns (total 12 columns):\n",
      " #   Column         Non-Null Count  Dtype  \n",
      "---  ------         --------------  -----  \n",
      " 0   name           8128 non-null   object \n",
      " 1   year           8128 non-null   int64  \n",
      " 2   selling_price  8128 non-null   int64  \n",
      " 3   km_driven      8128 non-null   int64  \n",
      " 4   fuel           8128 non-null   object \n",
      " 5   seller_type    8128 non-null   object \n",
      " 6   transmission   8128 non-null   object \n",
      " 7   owner          8128 non-null   object \n",
      " 8   mileage        8128 non-null   float64\n",
      " 9   engine         8128 non-null   float64\n",
      " 10  max_power      7912 non-null   float64\n",
      " 11  seats          7907 non-null   float64\n",
      "dtypes: float64(4), int64(3), object(5)\n",
      "memory usage: 762.1+ KB\n"
     ]
    }
   ],
   "source": [
    "df.info()"
   ]
  },
  {
   "cell_type": "code",
   "execution_count": 46,
   "id": "ce241736",
   "metadata": {},
   "outputs": [
    {
     "data": {
      "text/plain": [
       "<AxesSubplot:xlabel='max_power', ylabel='Density'>"
      ]
     },
     "execution_count": 46,
     "metadata": {},
     "output_type": "execute_result"
    },
    {
     "data": {
      "image/png": "[encoded data removed]",
      "text/plain": [
       "<Figure size 432x288 with 1 Axes>"
      ]
     },
     "metadata": {
      "needs_background": "light"
     },
     "output_type": "display_data"
    }
   ],
   "source": [
    "sns.distplot(df['max_power'])"
   ]
  },
  {
   "cell_type": "code",
   "execution_count": 47,
   "id": "facaf5c1",
   "metadata": {},
   "outputs": [
    {
     "data": {
      "text/plain": [
       "91.51791898382159"
      ]
     },
     "execution_count": 47,
     "metadata": {},
     "output_type": "execute_result"
    }
   ],
   "source": [
    "df['max_power'].mean()"
   ]
  },
  {
   "cell_type": "code",
   "execution_count": 48,
   "id": "f33e1008",
   "metadata": {},
   "outputs": [
    {
     "data": {
      "text/plain": [
       "82.0"
      ]
     },
     "execution_count": 48,
     "metadata": {},
     "output_type": "execute_result"
    }
   ],
   "source": [
    "df['max_power'].median()"
   ]
  },
  {
   "cell_type": "code",
   "execution_count": 49,
   "id": "69ea0b2a",
   "metadata": {},
   "outputs": [],
   "source": [
    "# Not normally distributed so replacing with median\n",
    "\n",
    "df['max_power'].fillna(df['max_power'].median(),inplace=True)"
   ]
  },
  {
   "cell_type": "code",
   "execution_count": 50,
   "id": "3277a6f0",
   "metadata": {},
   "outputs": [
    {
     "data": {
      "text/plain": [
       "name               0\n",
       "year               0\n",
       "selling_price      0\n",
       "km_driven          0\n",
       "fuel               0\n",
       "seller_type        0\n",
       "transmission       0\n",
       "owner              0\n",
       "mileage            0\n",
       "engine             0\n",
       "max_power          0\n",
       "seats            221\n",
       "dtype: int64"
      ]
     },
     "execution_count": 50,
     "metadata": {},
     "output_type": "execute_result"
    }
   ],
   "source": [
    "df.isnull().sum()"
   ]
  },
  {
   "cell_type": "markdown",
   "id": "a4116287",
   "metadata": {},
   "source": [
    "# DATA CLEANING AND MANIPULATION OF SEATS COL:"
   ]
  },
  {
   "cell_type": "code",
   "execution_count": 51,
   "id": "7e463aa7",
   "metadata": {},
   "outputs": [
    {
     "data": {
      "text/plain": [
       "name               0\n",
       "year               0\n",
       "selling_price      0\n",
       "km_driven          0\n",
       "fuel               0\n",
       "seller_type        0\n",
       "transmission       0\n",
       "owner              0\n",
       "mileage            0\n",
       "engine             0\n",
       "max_power          0\n",
       "seats            221\n",
       "dtype: int64"
      ]
     },
     "execution_count": 51,
     "metadata": {},
     "output_type": "execute_result"
    }
   ],
   "source": [
    "df.isnull().sum()"
   ]
  },
  {
   "cell_type": "code",
   "execution_count": 52,
   "id": "6e87b5e9",
   "metadata": {},
   "outputs": [
    {
     "data": {
      "text/plain": [
       "array([ 5.,  4., nan,  7.,  8.,  6.,  9., 10., 14.,  2.])"
      ]
     },
     "execution_count": 52,
     "metadata": {},
     "output_type": "execute_result"
    }
   ],
   "source": [
    "df['seats'].unique()"
   ]
  },
  {
   "cell_type": "markdown",
   "id": "17b94d7e",
   "metadata": {},
   "source": [
    "Why use mode here -->  Because seats cannot have floating values as 2.5, 3.45 etc"
   ]
  },
  {
   "cell_type": "code",
   "execution_count": 53,
   "id": "d5d21c76",
   "metadata": {},
   "outputs": [],
   "source": [
    "df['seats'].fillna(df['seats'].mode()[0],inplace=True)"
   ]
  },
  {
   "cell_type": "code",
   "execution_count": 54,
   "id": "a3552248",
   "metadata": {},
   "outputs": [
    {
     "data": {
      "text/html": [
       "<div>\n",
       "<style scoped>\n",
       "    .dataframe tbody tr th:only-of-type {\n",
       "        vertical-align: middle;\n",
       "    }\n",
       "\n",
       "    .dataframe tbody tr th {\n",
       "        vertical-align: top;\n",
       "    }\n",
       "\n",
       "    .dataframe thead th {\n",
       "        text-align: right;\n",
       "    }\n",
       "</style>\n",
       "<table border=\"1\" class=\"dataframe\">\n",
       "  <thead>\n",
       "    <tr style=\"text-align: right;\">\n",
       "      <th></th>\n",
       "      <th>name</th>\n",
       "      <th>year</th>\n",
       "      <th>selling_price</th>\n",
       "      <th>km_driven</th>\n",
       "      <th>fuel</th>\n",
       "      <th>seller_type</th>\n",
       "      <th>transmission</th>\n",
       "      <th>owner</th>\n",
       "      <th>mileage</th>\n",
       "      <th>engine</th>\n",
       "      <th>max_power</th>\n",
       "      <th>seats</th>\n",
       "    </tr>\n",
       "  </thead>\n",
       "  <tbody>\n",
       "    <tr>\n",
       "      <th>0</th>\n",
       "      <td>Maruti Swift Dzire VDI</td>\n",
       "      <td>2014</td>\n",
       "      <td>450000</td>\n",
       "      <td>145500</td>\n",
       "      <td>Diesel</td>\n",
       "      <td>Individual</td>\n",
       "      <td>Manual</td>\n",
       "      <td>First Owner</td>\n",
       "      <td>23.40</td>\n",
       "      <td>1248.0</td>\n",
       "      <td>74.00</td>\n",
       "      <td>5.0</td>\n",
       "    </tr>\n",
       "    <tr>\n",
       "      <th>1</th>\n",
       "      <td>Skoda Rapid 1.5 TDI Ambition</td>\n",
       "      <td>2014</td>\n",
       "      <td>370000</td>\n",
       "      <td>120000</td>\n",
       "      <td>Diesel</td>\n",
       "      <td>Individual</td>\n",
       "      <td>Manual</td>\n",
       "      <td>Second Owner</td>\n",
       "      <td>21.14</td>\n",
       "      <td>1498.0</td>\n",
       "      <td>103.52</td>\n",
       "      <td>5.0</td>\n",
       "    </tr>\n",
       "    <tr>\n",
       "      <th>2</th>\n",
       "      <td>Honda City 2017-2020 EXi</td>\n",
       "      <td>2006</td>\n",
       "      <td>158000</td>\n",
       "      <td>140000</td>\n",
       "      <td>Petrol</td>\n",
       "      <td>Individual</td>\n",
       "      <td>Manual</td>\n",
       "      <td>Third Owner</td>\n",
       "      <td>17.70</td>\n",
       "      <td>1497.0</td>\n",
       "      <td>78.00</td>\n",
       "      <td>5.0</td>\n",
       "    </tr>\n",
       "    <tr>\n",
       "      <th>3</th>\n",
       "      <td>Hyundai i20 Sportz Diesel</td>\n",
       "      <td>2010</td>\n",
       "      <td>225000</td>\n",
       "      <td>127000</td>\n",
       "      <td>Diesel</td>\n",
       "      <td>Individual</td>\n",
       "      <td>Manual</td>\n",
       "      <td>First Owner</td>\n",
       "      <td>23.00</td>\n",
       "      <td>1396.0</td>\n",
       "      <td>90.00</td>\n",
       "      <td>5.0</td>\n",
       "    </tr>\n",
       "    <tr>\n",
       "      <th>4</th>\n",
       "      <td>Maruti Swift VXI BSIII</td>\n",
       "      <td>2007</td>\n",
       "      <td>130000</td>\n",
       "      <td>120000</td>\n",
       "      <td>Petrol</td>\n",
       "      <td>Individual</td>\n",
       "      <td>Manual</td>\n",
       "      <td>First Owner</td>\n",
       "      <td>16.10</td>\n",
       "      <td>1298.0</td>\n",
       "      <td>88.20</td>\n",
       "      <td>5.0</td>\n",
       "    </tr>\n",
       "  </tbody>\n",
       "</table>\n",
       "</div>"
      ],
      "text/plain": [
       "                           name  year  selling_price  km_driven    fuel  \\\n",
       "0        Maruti Swift Dzire VDI  2014         450000     145500  Diesel   \n",
       "1  Skoda Rapid 1.5 TDI Ambition  2014         370000     120000  Diesel   \n",
       "2      Honda City 2017-2020 EXi  2006         158000     140000  Petrol   \n",
       "3     Hyundai i20 Sportz Diesel  2010         225000     127000  Diesel   \n",
       "4        Maruti Swift VXI BSIII  2007         130000     120000  Petrol   \n",
       "\n",
       "  seller_type transmission         owner  mileage  engine  max_power  seats  \n",
       "0  Individual       Manual   First Owner    23.40  1248.0      74.00    5.0  \n",
       "1  Individual       Manual  Second Owner    21.14  1498.0     103.52    5.0  \n",
       "2  Individual       Manual   Third Owner    17.70  1497.0      78.00    5.0  \n",
       "3  Individual       Manual   First Owner    23.00  1396.0      90.00    5.0  \n",
       "4  Individual       Manual   First Owner    16.10  1298.0      88.20    5.0  "
      ]
     },
     "execution_count": 54,
     "metadata": {},
     "output_type": "execute_result"
    }
   ],
   "source": [
    "df.head()"
   ]
  },
  {
   "cell_type": "code",
   "execution_count": 55,
   "id": "2435be09",
   "metadata": {},
   "outputs": [
    {
     "data": {
      "text/plain": [
       "name             0\n",
       "year             0\n",
       "selling_price    0\n",
       "km_driven        0\n",
       "fuel             0\n",
       "seller_type      0\n",
       "transmission     0\n",
       "owner            0\n",
       "mileage          0\n",
       "engine           0\n",
       "max_power        0\n",
       "seats            0\n",
       "dtype: int64"
      ]
     },
     "execution_count": 55,
     "metadata": {},
     "output_type": "execute_result"
    }
   ],
   "source": [
    "df.isnull().sum()"
   ]
  },
  {
   "cell_type": "markdown",
   "id": "f78d84ac",
   "metadata": {},
   "source": [
    "# CLEANED COLUMN AND DATA:"
   ]
  },
  {
   "cell_type": "code",
   "execution_count": 56,
   "id": "986e5112",
   "metadata": {},
   "outputs": [
    {
     "data": {
      "text/html": [
       "<div>\n",
       "<style scoped>\n",
       "    .dataframe tbody tr th:only-of-type {\n",
       "        vertical-align: middle;\n",
       "    }\n",
       "\n",
       "    .dataframe tbody tr th {\n",
       "        vertical-align: top;\n",
       "    }\n",
       "\n",
       "    .dataframe thead th {\n",
       "        text-align: right;\n",
       "    }\n",
       "</style>\n",
       "<table border=\"1\" class=\"dataframe\">\n",
       "  <thead>\n",
       "    <tr style=\"text-align: right;\">\n",
       "      <th></th>\n",
       "      <th>name</th>\n",
       "      <th>year</th>\n",
       "      <th>selling_price</th>\n",
       "      <th>km_driven</th>\n",
       "      <th>fuel</th>\n",
       "      <th>seller_type</th>\n",
       "      <th>transmission</th>\n",
       "      <th>owner</th>\n",
       "      <th>mileage</th>\n",
       "      <th>engine</th>\n",
       "      <th>max_power</th>\n",
       "      <th>seats</th>\n",
       "    </tr>\n",
       "  </thead>\n",
       "  <tbody>\n",
       "    <tr>\n",
       "      <th>0</th>\n",
       "      <td>Maruti Swift Dzire VDI</td>\n",
       "      <td>2014</td>\n",
       "      <td>450000</td>\n",
       "      <td>145500</td>\n",
       "      <td>Diesel</td>\n",
       "      <td>Individual</td>\n",
       "      <td>Manual</td>\n",
       "      <td>First Owner</td>\n",
       "      <td>23.40</td>\n",
       "      <td>1248.0</td>\n",
       "      <td>74.00</td>\n",
       "      <td>5.0</td>\n",
       "    </tr>\n",
       "    <tr>\n",
       "      <th>1</th>\n",
       "      <td>Skoda Rapid 1.5 TDI Ambition</td>\n",
       "      <td>2014</td>\n",
       "      <td>370000</td>\n",
       "      <td>120000</td>\n",
       "      <td>Diesel</td>\n",
       "      <td>Individual</td>\n",
       "      <td>Manual</td>\n",
       "      <td>Second Owner</td>\n",
       "      <td>21.14</td>\n",
       "      <td>1498.0</td>\n",
       "      <td>103.52</td>\n",
       "      <td>5.0</td>\n",
       "    </tr>\n",
       "    <tr>\n",
       "      <th>2</th>\n",
       "      <td>Honda City 2017-2020 EXi</td>\n",
       "      <td>2006</td>\n",
       "      <td>158000</td>\n",
       "      <td>140000</td>\n",
       "      <td>Petrol</td>\n",
       "      <td>Individual</td>\n",
       "      <td>Manual</td>\n",
       "      <td>Third Owner</td>\n",
       "      <td>17.70</td>\n",
       "      <td>1497.0</td>\n",
       "      <td>78.00</td>\n",
       "      <td>5.0</td>\n",
       "    </tr>\n",
       "    <tr>\n",
       "      <th>3</th>\n",
       "      <td>Hyundai i20 Sportz Diesel</td>\n",
       "      <td>2010</td>\n",
       "      <td>225000</td>\n",
       "      <td>127000</td>\n",
       "      <td>Diesel</td>\n",
       "      <td>Individual</td>\n",
       "      <td>Manual</td>\n",
       "      <td>First Owner</td>\n",
       "      <td>23.00</td>\n",
       "      <td>1396.0</td>\n",
       "      <td>90.00</td>\n",
       "      <td>5.0</td>\n",
       "    </tr>\n",
       "    <tr>\n",
       "      <th>4</th>\n",
       "      <td>Maruti Swift VXI BSIII</td>\n",
       "      <td>2007</td>\n",
       "      <td>130000</td>\n",
       "      <td>120000</td>\n",
       "      <td>Petrol</td>\n",
       "      <td>Individual</td>\n",
       "      <td>Manual</td>\n",
       "      <td>First Owner</td>\n",
       "      <td>16.10</td>\n",
       "      <td>1298.0</td>\n",
       "      <td>88.20</td>\n",
       "      <td>5.0</td>\n",
       "    </tr>\n",
       "  </tbody>\n",
       "</table>\n",
       "</div>"
      ],
      "text/plain": [
       "                           name  year  selling_price  km_driven    fuel  \\\n",
       "0        Maruti Swift Dzire VDI  2014         450000     145500  Diesel   \n",
       "1  Skoda Rapid 1.5 TDI Ambition  2014         370000     120000  Diesel   \n",
       "2      Honda City 2017-2020 EXi  2006         158000     140000  Petrol   \n",
       "3     Hyundai i20 Sportz Diesel  2010         225000     127000  Diesel   \n",
       "4        Maruti Swift VXI BSIII  2007         130000     120000  Petrol   \n",
       "\n",
       "  seller_type transmission         owner  mileage  engine  max_power  seats  \n",
       "0  Individual       Manual   First Owner    23.40  1248.0      74.00    5.0  \n",
       "1  Individual       Manual  Second Owner    21.14  1498.0     103.52    5.0  \n",
       "2  Individual       Manual   Third Owner    17.70  1497.0      78.00    5.0  \n",
       "3  Individual       Manual   First Owner    23.00  1396.0      90.00    5.0  \n",
       "4  Individual       Manual   First Owner    16.10  1298.0      88.20    5.0  "
      ]
     },
     "execution_count": 56,
     "metadata": {},
     "output_type": "execute_result"
    }
   ],
   "source": [
    "df.head()"
   ]
  },
  {
   "cell_type": "code",
   "execution_count": 57,
   "id": "63da29c2",
   "metadata": {},
   "outputs": [
    {
     "name": "stdout",
     "output_type": "stream",
     "text": [
      "<class 'pandas.core.frame.DataFrame'>\n",
      "RangeIndex: 8128 entries, 0 to 8127\n",
      "Data columns (total 12 columns):\n",
      " #   Column         Non-Null Count  Dtype  \n",
      "---  ------         --------------  -----  \n",
      " 0   name           8128 non-null   object \n",
      " 1   year           8128 non-null   int64  \n",
      " 2   selling_price  8128 non-null   int64  \n",
      " 3   km_driven      8128 non-null   int64  \n",
      " 4   fuel           8128 non-null   object \n",
      " 5   seller_type    8128 non-null   object \n",
      " 6   transmission   8128 non-null   object \n",
      " 7   owner          8128 non-null   object \n",
      " 8   mileage        8128 non-null   float64\n",
      " 9   engine         8128 non-null   float64\n",
      " 10  max_power      8128 non-null   float64\n",
      " 11  seats          8128 non-null   float64\n",
      "dtypes: float64(4), int64(3), object(5)\n",
      "memory usage: 762.1+ KB\n"
     ]
    }
   ],
   "source": [
    "df.info()"
   ]
  },
  {
   "cell_type": "code",
   "execution_count": null,
   "id": "78a726d5",
   "metadata": {},
   "outputs": [],
   "source": []
  }
 ],
 "metadata": {
  "kernelspec": {
   "display_name": "Python 3 (ipykernel)",
   "language": "python",
   "name": "python3"
  },
  "language_info": {
   "codemirror_mode": {
    "name": "ipython",
    "version": 3
   },
   "file_extension": ".py",
   "mimetype": "text/x-python",
   "name": "python",
   "nbconvert_exporter": "python",
   "pygments_lexer": "ipython3",
   "version": "3.9.12"
  }
 },
 "nbformat": 4,
 "nbformat_minor": 5
}
